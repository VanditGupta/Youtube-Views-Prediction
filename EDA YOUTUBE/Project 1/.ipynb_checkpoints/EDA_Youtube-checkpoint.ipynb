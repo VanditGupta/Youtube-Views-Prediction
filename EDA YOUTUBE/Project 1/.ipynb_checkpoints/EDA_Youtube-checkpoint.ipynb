{
 "cells": [
  {
   "cell_type": "code",
   "execution_count": 1,
   "metadata": {
    "_cell_guid": "b1076dfc-b9ad-4769-8c92-a6c4dae69d19",
    "_uuid": "8f2839f25d086af736a60e9eeb907d3b93b6e0e5"
   },
   "outputs": [],
   "source": [
    "# https://www.kaggle.com/rsrishav/youtube-trending-video-dataset\n",
    "\n",
    "import numpy as np\n",
    "import pandas as pd\n",
    "import os"
   ]
  },
  {
   "cell_type": "code",
   "execution_count": null,
   "metadata": {},
   "outputs": [],
   "source": []
  },
  {
   "cell_type": "code",
   "execution_count": 2,
   "metadata": {},
   "outputs": [],
   "source": [
    "data = []\n",
    "for dirname, _, filenames in os.walk('./archive1/'):\n",
    "    for filename in filenames:\n",
    "        if filename.endswith('csv'):\n",
    "            dft = pd.DataFrame(pd.read_csv(os.path.join(dirname, filename), header=0))\n",
    "            dft['country'] = filename[:2]\n",
    "            data.append(dft)\n",
    "\n",
    "df = pd.concat(data, axis=0, ignore_index=True)"
   ]
  },
  {
   "cell_type": "code",
   "execution_count": null,
   "metadata": {},
   "outputs": [],
   "source": []
  },
  {
   "cell_type": "code",
   "execution_count": 3,
   "metadata": {},
   "outputs": [],
   "source": [
    "country = df.country.unique().tolist()\n",
    "df['countryId'] = df.country.apply(lambda x: country.index(x))"
   ]
  },
  {
   "cell_type": "code",
   "execution_count": 4,
   "metadata": {},
   "outputs": [
    {
     "data": {
      "text/plain": [
       "['IN', 'US']"
      ]
     },
     "execution_count": 4,
     "metadata": {},
     "output_type": "execute_result"
    }
   ],
   "source": [
    "country"
   ]
  },
  {
   "cell_type": "code",
   "execution_count": null,
   "metadata": {},
   "outputs": [],
   "source": []
  },
  {
   "cell_type": "code",
   "execution_count": 5,
   "metadata": {},
   "outputs": [
    {
     "data": {
      "text/html": [
       "<div>\n",
       "<style scoped>\n",
       "    .dataframe tbody tr th:only-of-type {\n",
       "        vertical-align: middle;\n",
       "    }\n",
       "\n",
       "    .dataframe tbody tr th {\n",
       "        vertical-align: top;\n",
       "    }\n",
       "\n",
       "    .dataframe thead th {\n",
       "        text-align: right;\n",
       "    }\n",
       "</style>\n",
       "<table border=\"1\" class=\"dataframe\">\n",
       "  <thead>\n",
       "    <tr style=\"text-align: right;\">\n",
       "      <th></th>\n",
       "      <th>video_id</th>\n",
       "      <th>title</th>\n",
       "      <th>publishedAt</th>\n",
       "      <th>channelId</th>\n",
       "      <th>channelTitle</th>\n",
       "      <th>categoryId</th>\n",
       "      <th>trending_date</th>\n",
       "      <th>tags</th>\n",
       "      <th>view_count</th>\n",
       "      <th>likes</th>\n",
       "      <th>dislikes</th>\n",
       "      <th>comment_count</th>\n",
       "      <th>thumbnail_link</th>\n",
       "      <th>comments_disabled</th>\n",
       "      <th>ratings_disabled</th>\n",
       "      <th>description</th>\n",
       "      <th>country</th>\n",
       "      <th>countryId</th>\n",
       "    </tr>\n",
       "  </thead>\n",
       "  <tbody>\n",
       "    <tr>\n",
       "      <th>0</th>\n",
       "      <td>Iot0eF6EoNA</td>\n",
       "      <td>Sadak 2 | Official Trailer | Sanjay | Pooja | ...</td>\n",
       "      <td>2020-08-12T04:31:41Z</td>\n",
       "      <td>UCGqvJPRcv7aVFun-eTsatcA</td>\n",
       "      <td>FoxStarHindi</td>\n",
       "      <td>24</td>\n",
       "      <td>2020-08-12T00:00:00Z</td>\n",
       "      <td>sadak|sadak 2|mahesh bhatt|vishesh films|pooja...</td>\n",
       "      <td>9885899</td>\n",
       "      <td>224925</td>\n",
       "      <td>3979409</td>\n",
       "      <td>350210</td>\n",
       "      <td>https://i.ytimg.com/vi/Iot0eF6EoNA/default.jpg</td>\n",
       "      <td>False</td>\n",
       "      <td>False</td>\n",
       "      <td>Three Streams. Three Stories. One Journey. Sta...</td>\n",
       "      <td>IN</td>\n",
       "      <td>0</td>\n",
       "    </tr>\n",
       "    <tr>\n",
       "      <th>1</th>\n",
       "      <td>x-KbnJ9fvJc</td>\n",
       "      <td>Kya Baat Aa : Karan Aujla (Official Video) Tan...</td>\n",
       "      <td>2020-08-11T09:00:11Z</td>\n",
       "      <td>UCm9SZAl03Rev9sFwloCdz1g</td>\n",
       "      <td>Rehaan Records</td>\n",
       "      <td>10</td>\n",
       "      <td>2020-08-12T00:00:00Z</td>\n",
       "      <td>[None]</td>\n",
       "      <td>11308046</td>\n",
       "      <td>655450</td>\n",
       "      <td>33242</td>\n",
       "      <td>405146</td>\n",
       "      <td>https://i.ytimg.com/vi/x-KbnJ9fvJc/default.jpg</td>\n",
       "      <td>False</td>\n",
       "      <td>False</td>\n",
       "      <td>Singer/Lyrics: Karan Aujla Feat Tania Music/ D...</td>\n",
       "      <td>IN</td>\n",
       "      <td>0</td>\n",
       "    </tr>\n",
       "  </tbody>\n",
       "</table>\n",
       "</div>"
      ],
      "text/plain": [
       "      video_id                                              title  \\\n",
       "0  Iot0eF6EoNA  Sadak 2 | Official Trailer | Sanjay | Pooja | ...   \n",
       "1  x-KbnJ9fvJc  Kya Baat Aa : Karan Aujla (Official Video) Tan...   \n",
       "\n",
       "            publishedAt                 channelId    channelTitle  categoryId  \\\n",
       "0  2020-08-12T04:31:41Z  UCGqvJPRcv7aVFun-eTsatcA    FoxStarHindi          24   \n",
       "1  2020-08-11T09:00:11Z  UCm9SZAl03Rev9sFwloCdz1g  Rehaan Records          10   \n",
       "\n",
       "          trending_date                                               tags  \\\n",
       "0  2020-08-12T00:00:00Z  sadak|sadak 2|mahesh bhatt|vishesh films|pooja...   \n",
       "1  2020-08-12T00:00:00Z                                             [None]   \n",
       "\n",
       "   view_count   likes  dislikes  comment_count  \\\n",
       "0     9885899  224925   3979409         350210   \n",
       "1    11308046  655450     33242         405146   \n",
       "\n",
       "                                   thumbnail_link  comments_disabled  \\\n",
       "0  https://i.ytimg.com/vi/Iot0eF6EoNA/default.jpg              False   \n",
       "1  https://i.ytimg.com/vi/x-KbnJ9fvJc/default.jpg              False   \n",
       "\n",
       "   ratings_disabled                                        description  \\\n",
       "0             False  Three Streams. Three Stories. One Journey. Sta...   \n",
       "1             False  Singer/Lyrics: Karan Aujla Feat Tania Music/ D...   \n",
       "\n",
       "  country  countryId  \n",
       "0      IN          0  \n",
       "1      IN          0  "
      ]
     },
     "execution_count": 5,
     "metadata": {},
     "output_type": "execute_result"
    }
   ],
   "source": [
    "df.head(2)"
   ]
  },
  {
   "cell_type": "code",
   "execution_count": 6,
   "metadata": {},
   "outputs": [
    {
     "data": {
      "text/html": [
       "<div>\n",
       "<style scoped>\n",
       "    .dataframe tbody tr th:only-of-type {\n",
       "        vertical-align: middle;\n",
       "    }\n",
       "\n",
       "    .dataframe tbody tr th {\n",
       "        vertical-align: top;\n",
       "    }\n",
       "\n",
       "    .dataframe thead th {\n",
       "        text-align: right;\n",
       "    }\n",
       "</style>\n",
       "<table border=\"1\" class=\"dataframe\">\n",
       "  <thead>\n",
       "    <tr style=\"text-align: right;\">\n",
       "      <th></th>\n",
       "      <th>categoryId</th>\n",
       "      <th>view_count</th>\n",
       "      <th>likes</th>\n",
       "      <th>dislikes</th>\n",
       "      <th>comment_count</th>\n",
       "      <th>countryId</th>\n",
       "    </tr>\n",
       "  </thead>\n",
       "  <tbody>\n",
       "    <tr>\n",
       "      <th>count</th>\n",
       "      <td>111118.000000</td>\n",
       "      <td>1.111180e+05</td>\n",
       "      <td>1.111180e+05</td>\n",
       "      <td>1.111180e+05</td>\n",
       "      <td>1.111180e+05</td>\n",
       "      <td>111118.000000</td>\n",
       "    </tr>\n",
       "    <tr>\n",
       "      <th>mean</th>\n",
       "      <td>19.612556</td>\n",
       "      <td>2.765743e+06</td>\n",
       "      <td>1.443815e+05</td>\n",
       "      <td>5.388276e+03</td>\n",
       "      <td>1.515026e+04</td>\n",
       "      <td>0.520087</td>\n",
       "    </tr>\n",
       "    <tr>\n",
       "      <th>std</th>\n",
       "      <td>6.782563</td>\n",
       "      <td>6.856869e+06</td>\n",
       "      <td>4.430392e+05</td>\n",
       "      <td>1.085357e+05</td>\n",
       "      <td>1.179113e+05</td>\n",
       "      <td>0.499599</td>\n",
       "    </tr>\n",
       "    <tr>\n",
       "      <th>min</th>\n",
       "      <td>1.000000</td>\n",
       "      <td>0.000000e+00</td>\n",
       "      <td>0.000000e+00</td>\n",
       "      <td>0.000000e+00</td>\n",
       "      <td>0.000000e+00</td>\n",
       "      <td>0.000000</td>\n",
       "    </tr>\n",
       "    <tr>\n",
       "      <th>25%</th>\n",
       "      <td>17.000000</td>\n",
       "      <td>4.889612e+05</td>\n",
       "      <td>1.715350e+04</td>\n",
       "      <td>4.490000e+02</td>\n",
       "      <td>1.176000e+03</td>\n",
       "      <td>0.000000</td>\n",
       "    </tr>\n",
       "    <tr>\n",
       "      <th>50%</th>\n",
       "      <td>23.000000</td>\n",
       "      <td>1.058264e+06</td>\n",
       "      <td>4.598300e+04</td>\n",
       "      <td>1.111000e+03</td>\n",
       "      <td>3.253000e+03</td>\n",
       "      <td>1.000000</td>\n",
       "    </tr>\n",
       "    <tr>\n",
       "      <th>75%</th>\n",
       "      <td>24.000000</td>\n",
       "      <td>2.467816e+06</td>\n",
       "      <td>1.199340e+05</td>\n",
       "      <td>3.079750e+03</td>\n",
       "      <td>8.833000e+03</td>\n",
       "      <td>1.000000</td>\n",
       "    </tr>\n",
       "    <tr>\n",
       "      <th>max</th>\n",
       "      <td>29.000000</td>\n",
       "      <td>2.644074e+08</td>\n",
       "      <td>1.611524e+07</td>\n",
       "      <td>1.234147e+07</td>\n",
       "      <td>6.738565e+06</td>\n",
       "      <td>1.000000</td>\n",
       "    </tr>\n",
       "  </tbody>\n",
       "</table>\n",
       "</div>"
      ],
      "text/plain": [
       "          categoryId    view_count         likes      dislikes  comment_count  \\\n",
       "count  111118.000000  1.111180e+05  1.111180e+05  1.111180e+05   1.111180e+05   \n",
       "mean       19.612556  2.765743e+06  1.443815e+05  5.388276e+03   1.515026e+04   \n",
       "std         6.782563  6.856869e+06  4.430392e+05  1.085357e+05   1.179113e+05   \n",
       "min         1.000000  0.000000e+00  0.000000e+00  0.000000e+00   0.000000e+00   \n",
       "25%        17.000000  4.889612e+05  1.715350e+04  4.490000e+02   1.176000e+03   \n",
       "50%        23.000000  1.058264e+06  4.598300e+04  1.111000e+03   3.253000e+03   \n",
       "75%        24.000000  2.467816e+06  1.199340e+05  3.079750e+03   8.833000e+03   \n",
       "max        29.000000  2.644074e+08  1.611524e+07  1.234147e+07   6.738565e+06   \n",
       "\n",
       "           countryId  \n",
       "count  111118.000000  \n",
       "mean        0.520087  \n",
       "std         0.499599  \n",
       "min         0.000000  \n",
       "25%         0.000000  \n",
       "50%         1.000000  \n",
       "75%         1.000000  \n",
       "max         1.000000  "
      ]
     },
     "execution_count": 6,
     "metadata": {},
     "output_type": "execute_result"
    }
   ],
   "source": [
    "df.describe()"
   ]
  },
  {
   "cell_type": "code",
   "execution_count": 7,
   "metadata": {},
   "outputs": [
    {
     "data": {
      "text/plain": [
       "['video_id',\n",
       " 'title',\n",
       " 'publishedAt',\n",
       " 'channelId',\n",
       " 'channelTitle',\n",
       " 'categoryId',\n",
       " 'trending_date',\n",
       " 'tags',\n",
       " 'view_count',\n",
       " 'likes',\n",
       " 'dislikes',\n",
       " 'comment_count',\n",
       " 'thumbnail_link',\n",
       " 'comments_disabled',\n",
       " 'ratings_disabled',\n",
       " 'description',\n",
       " 'country',\n",
       " 'countryId']"
      ]
     },
     "execution_count": 7,
     "metadata": {},
     "output_type": "execute_result"
    }
   ],
   "source": [
    "columns = list(df.head(0))\n",
    "columns"
   ]
  },
  {
   "cell_type": "code",
   "execution_count": 8,
   "metadata": {},
   "outputs": [],
   "source": [
    "# Finding duplicate values if any\n",
    "def eda(dfA, all=False, desc='EDA '):\n",
    "    print(desc)\n",
    "    print(f'\\nShape:\\n{dfA.shape}')\n",
    "    print(f'\\nIs Null: {dfA.isnull().sum().sum()}')\n",
    "    print(f'{dfA.isnull().mean().sort_values(ascending=False)}')\n",
    "    dup = dfA.duplicated()\n",
    "    print(f'\\nDuplicated: \\n{dfA[dup].shape}\\n')\n",
    "    try:\n",
    "        print(dfA[dfA.duplicated(keep=False)].sample(4))\n",
    "    except:\n",
    "        pass\n",
    "    if all:  \n",
    "        \n",
    "        print(f'\\nDTypes - Numerics')\n",
    "        print(dfA.describe(include=[np.number]))\n",
    "        print(f'\\nDTypes - Categoricals')\n",
    "        print(dfA.describe(include=['object']))\n",
    "        \n",
    "        #print(df.loc[:, df.dtypes=='object'].columns)\n",
    "        print(f'\\nHead:\\n{dfA.head()}')\n",
    "        print(f'\\nSamples:\\n{dfA.sample(2)}')\n",
    "        print(f'\\nTail:\\n{dfA.tail()}')"
   ]
  },
  {
   "cell_type": "code",
   "execution_count": 9,
   "metadata": {},
   "outputs": [
    {
     "name": "stdout",
     "output_type": "stream",
     "text": [
      "EDA \n",
      "\n",
      "Shape:\n",
      "(111118, 18)\n",
      "\n",
      "Is Null: 1419\n",
      "description          0.012761\n",
      "channelTitle         0.000009\n",
      "video_id             0.000000\n",
      "dislikes             0.000000\n",
      "country              0.000000\n",
      "ratings_disabled     0.000000\n",
      "comments_disabled    0.000000\n",
      "thumbnail_link       0.000000\n",
      "comment_count        0.000000\n",
      "likes                0.000000\n",
      "title                0.000000\n",
      "view_count           0.000000\n",
      "tags                 0.000000\n",
      "trending_date        0.000000\n",
      "categoryId           0.000000\n",
      "channelId            0.000000\n",
      "publishedAt          0.000000\n",
      "countryId            0.000000\n",
      "dtype: float64\n",
      "\n",
      "Duplicated: \n",
      "(158, 18)\n",
      "\n",
      "          video_id                                              title  \\\n",
      "35968  9Ip7rN6R56o                     Drishyam 2 review by prashanth   \n",
      "91649  U5XufcVdKx4           Bryson Tiller - Sorrows (Official Video)   \n",
      "91715  Zm6FIc_g8dg                          I.M 아이엠 'GOD DAMN' Teaser   \n",
      "91619  BOSkp2YzTd8  Lil Tjay & 6LACK - Calling My Phone (Lyric Video)   \n",
      "\n",
      "                publishedAt                 channelId       channelTitle  \\\n",
      "35968  2021-02-19T18:15:59Z  UCZVcQLqXTn1DN-UcDwrc1gQ  tamilcinemareview   \n",
      "91649  2021-02-18T20:00:13Z  UCwhe-6skwaZxLomc-U6Wy1w   BrysonTillerVEVO   \n",
      "91715  2021-02-17T13:19:02Z  UCYDmx2Sfpnaxg488yBpZIGg         starshipTV   \n",
      "91619  2021-02-19T23:11:46Z  UCEB4a5o_6KfjxHwNMnmj54Q           Lil Tjay   \n",
      "\n",
      "       categoryId         trending_date  \\\n",
      "35968           1  2021-02-24T00:00:00Z   \n",
      "91649          10  2021-02-24T00:00:00Z   \n",
      "91715          10  2021-02-24T00:00:00Z   \n",
      "91619          10  2021-02-24T00:00:00Z   \n",
      "\n",
      "                                                    tags  view_count  likes  \\\n",
      "35968  Tamil Cinema Review|Tamil Cinema Review prasha...      363949  16980   \n",
      "91649     Bryson Tiller|R&B|Sorrows|TrapSoul/RCA Records      726740  60327   \n",
      "91715  Kpop|1theK|Starshiptv|starship|loen|로엔|뮤비|티저|M...      290635  68093   \n",
      "91619  Lil Tjay|Steady Calling My Phone|Calling My Ph...      373499  26989   \n",
      "\n",
      "       dislikes  comment_count  \\\n",
      "35968       268           1758   \n",
      "91649       391           3732   \n",
      "91715       191           6456   \n",
      "91619       204           1536   \n",
      "\n",
      "                                       thumbnail_link  comments_disabled  \\\n",
      "35968  https://i.ytimg.com/vi/9Ip7rN6R56o/default.jpg              False   \n",
      "91649  https://i.ytimg.com/vi/U5XufcVdKx4/default.jpg              False   \n",
      "91715  https://i.ytimg.com/vi/Zm6FIc_g8dg/default.jpg              False   \n",
      "91619  https://i.ytimg.com/vi/BOSkp2YzTd8/default.jpg              False   \n",
      "\n",
      "       ratings_disabled                                        description  \\\n",
      "35968             False  Review about recently released malayalam movie...   \n",
      "91649             False  Music video by Bryson Tiller performing Sorrow...   \n",
      "91715             False  ▶More informationMONSTA X Official Fan cafe : ...   \n",
      "91619             False  Official lyric video for Calling My Phone by L...   \n",
      "\n",
      "      country  countryId  \n",
      "35968      IN          0  \n",
      "91649      US          1  \n",
      "91715      US          1  \n",
      "91619      US          1  \n"
     ]
    }
   ],
   "source": [
    "eda(df)"
   ]
  },
  {
   "cell_type": "code",
   "execution_count": 10,
   "metadata": {},
   "outputs": [
    {
     "data": {
      "text/plain": [
       "1418"
      ]
     },
     "execution_count": 10,
     "metadata": {},
     "output_type": "execute_result"
    }
   ],
   "source": [
    "len(df[df.description.isna()])"
   ]
  },
  {
   "cell_type": "code",
   "execution_count": 11,
   "metadata": {},
   "outputs": [],
   "source": [
    "df.description = df.description.fillna('no-description')"
   ]
  },
  {
   "cell_type": "code",
   "execution_count": 12,
   "metadata": {},
   "outputs": [
    {
     "name": "stdout",
     "output_type": "stream",
     "text": [
      "EDA \n",
      "\n",
      "Shape:\n",
      "(111118, 18)\n",
      "\n",
      "Is Null: 1\n",
      "channelTitle         0.000009\n",
      "video_id             0.000000\n",
      "dislikes             0.000000\n",
      "country              0.000000\n",
      "description          0.000000\n",
      "ratings_disabled     0.000000\n",
      "comments_disabled    0.000000\n",
      "thumbnail_link       0.000000\n",
      "comment_count        0.000000\n",
      "likes                0.000000\n",
      "title                0.000000\n",
      "view_count           0.000000\n",
      "tags                 0.000000\n",
      "trending_date        0.000000\n",
      "categoryId           0.000000\n",
      "channelId            0.000000\n",
      "publishedAt          0.000000\n",
      "countryId            0.000000\n",
      "dtype: float64\n",
      "\n",
      "Duplicated: \n",
      "(158, 18)\n",
      "\n",
      "          video_id                                              title  \\\n",
      "91838  oN1wV9t8t7Q  Kim Kardashian Files for Divorce From Kanye We...   \n",
      "91707  TPSr9eTmeKI  POV you just turned on the History Channel for...   \n",
      "35838  2jcNrhCfP_U  Paagal Teaser - Vishwak Sen | Naressh Kuppili ...   \n",
      "92162  WejtDWffrDY  Bretman Rock Faces His Biggest Fear | Episode ...   \n",
      "\n",
      "                publishedAt                 channelId channelTitle  \\\n",
      "91838  2021-02-19T21:08:22Z  UCjDsbbzHgTrGc4Ff26TJtsA      E! News   \n",
      "91707  2021-02-16T17:26:47Z  UCVIFCOJwv3emlVmBbPCZrvw   Joel Haver   \n",
      "35838  2021-02-18T05:30:18Z  UCR-uD130PlXKww_J2Q63CMg     Dil Raju   \n",
      "92162  2021-02-22T21:00:11Z  UCxAICW_LdkfFYwTqTHHE0vg          MTV   \n",
      "\n",
      "       categoryId         trending_date  \\\n",
      "91838          24  2021-02-24T00:00:00Z   \n",
      "91707           1  2021-02-24T00:00:00Z   \n",
      "35838          24  2021-02-24T00:00:00Z   \n",
      "92162          10  2021-02-26T00:00:00Z   \n",
      "\n",
      "                                                    tags  view_count   likes  \\\n",
      "91838  Top Stories|Entertainment|News|Wochit|Divorces...      247006    2742   \n",
      "91707  Joel Haver|Trent Lenkarski|History|History Cha...     1447015  177067   \n",
      "35838  Paagal|Paagal Teaser|Vishwak Sen|Vishwak sen’s...     3692239  126996   \n",
      "92162  MTV|Bretman Rock|MTV’s Following: Bretman Rock...     3177551  152651   \n",
      "\n",
      "       dislikes  comment_count  \\\n",
      "91838       264           1794   \n",
      "91707       713           7348   \n",
      "35838      4055           5572   \n",
      "92162      2562           6896   \n",
      "\n",
      "                                       thumbnail_link  comments_disabled  \\\n",
      "91838  https://i.ytimg.com/vi/oN1wV9t8t7Q/default.jpg              False   \n",
      "91707  https://i.ytimg.com/vi/TPSr9eTmeKI/default.jpg              False   \n",
      "35838  https://i.ytimg.com/vi/2jcNrhCfP_U/default.jpg              False   \n",
      "92162  https://i.ytimg.com/vi/WejtDWffrDY/default.jpg              False   \n",
      "\n",
      "       ratings_disabled                                        description  \\\n",
      "91838             False  The KUWTK star and Yeezy rapper are splitting ...   \n",
      "91707             False  Do not try what you're about to see at home.Su...   \n",
      "35838             False  Watch #Paagal Teaser ft. Vishwak Sen#VishwakSe...   \n",
      "92162             False  Bretman hatches a plan to coach a “celibate“ L...   \n",
      "\n",
      "      country  countryId  \n",
      "91838      US          1  \n",
      "91707      US          1  \n",
      "35838      IN          0  \n",
      "92162      US          1  \n"
     ]
    }
   ],
   "source": [
    "eda(df)"
   ]
  },
  {
   "cell_type": "code",
   "execution_count": 13,
   "metadata": {},
   "outputs": [],
   "source": [
    "import seaborn as sns\n",
    "import matplotlib.pyplot as plt"
   ]
  },
  {
   "cell_type": "code",
   "execution_count": 14,
   "metadata": {},
   "outputs": [],
   "source": [
    "g = df[['countryId', 'country']].groupby('country').count()\n",
    "a = df[['likes', 'dislikes', 'view_count', 'country']].groupby('country').sum()"
   ]
  },
  {
   "cell_type": "code",
   "execution_count": 15,
   "metadata": {},
   "outputs": [
    {
     "data": {
      "text/html": [
       "<div>\n",
       "<style scoped>\n",
       "    .dataframe tbody tr th:only-of-type {\n",
       "        vertical-align: middle;\n",
       "    }\n",
       "\n",
       "    .dataframe tbody tr th {\n",
       "        vertical-align: top;\n",
       "    }\n",
       "\n",
       "    .dataframe thead th {\n",
       "        text-align: right;\n",
       "    }\n",
       "</style>\n",
       "<table border=\"1\" class=\"dataframe\">\n",
       "  <thead>\n",
       "    <tr style=\"text-align: right;\">\n",
       "      <th></th>\n",
       "      <th>countryId</th>\n",
       "    </tr>\n",
       "    <tr>\n",
       "      <th>country</th>\n",
       "      <th></th>\n",
       "    </tr>\n",
       "  </thead>\n",
       "  <tbody>\n",
       "    <tr>\n",
       "      <th>IN</th>\n",
       "      <td>53327</td>\n",
       "    </tr>\n",
       "    <tr>\n",
       "      <th>US</th>\n",
       "      <td>57791</td>\n",
       "    </tr>\n",
       "  </tbody>\n",
       "</table>\n",
       "</div>"
      ],
      "text/plain": [
       "         countryId\n",
       "country           \n",
       "IN           53327\n",
       "US           57791"
      ]
     },
     "execution_count": 15,
     "metadata": {},
     "output_type": "execute_result"
    }
   ],
   "source": [
    "g"
   ]
  },
  {
   "cell_type": "code",
   "execution_count": null,
   "metadata": {},
   "outputs": [],
   "source": []
  },
  {
   "cell_type": "code",
   "execution_count": null,
   "metadata": {},
   "outputs": [],
   "source": []
  },
  {
   "cell_type": "code",
   "execution_count": null,
   "metadata": {},
   "outputs": [],
   "source": []
  },
  {
   "cell_type": "code",
   "execution_count": null,
   "metadata": {},
   "outputs": [],
   "source": []
  },
  {
   "cell_type": "code",
   "execution_count": null,
   "metadata": {},
   "outputs": [],
   "source": []
  },
  {
   "cell_type": "markdown",
   "metadata": {},
   "source": []
  },
  {
   "cell_type": "code",
   "execution_count": 16,
   "metadata": {},
   "outputs": [],
   "source": [
    "country = df.query(\"country == 'IN' or country == 'US'\")"
   ]
  },
  {
   "cell_type": "code",
   "execution_count": null,
   "metadata": {},
   "outputs": [],
   "source": []
  },
  {
   "cell_type": "code",
   "execution_count": 17,
   "metadata": {
    "_cell_guid": "79c7e3d0-c299-4dcb-8224-4455121ee9b0",
    "_uuid": "d629ff2d2480ee46fbb7e2d37f6b5fab8052498a"
   },
   "outputs": [],
   "source": [
    "# Separates dataset into category id and view count\n",
    "def sepColumns(dataset):\n",
    "    num = []\n",
    "    cat = []\n",
    "    for i in dataset.columns:\n",
    "        if dataset[i].dtype == 'object':\n",
    "            cat.append(i)\n",
    "        else:\n",
    "            num.append(i)\n",
    "    return num, cat"
   ]
  },
  {
   "cell_type": "code",
   "execution_count": 18,
   "metadata": {},
   "outputs": [],
   "source": [
    "num, categ = sepColumns(country)"
   ]
  },
  {
   "cell_type": "code",
   "execution_count": 19,
   "metadata": {},
   "outputs": [
    {
     "data": {
      "text/html": [
       "<div>\n",
       "<style scoped>\n",
       "    .dataframe tbody tr th:only-of-type {\n",
       "        vertical-align: middle;\n",
       "    }\n",
       "\n",
       "    .dataframe tbody tr th {\n",
       "        vertical-align: top;\n",
       "    }\n",
       "\n",
       "    .dataframe thead th {\n",
       "        text-align: right;\n",
       "    }\n",
       "</style>\n",
       "<table border=\"1\" class=\"dataframe\">\n",
       "  <thead>\n",
       "    <tr style=\"text-align: right;\">\n",
       "      <th></th>\n",
       "      <th>categoryId</th>\n",
       "      <th>view_count</th>\n",
       "      <th>likes</th>\n",
       "      <th>dislikes</th>\n",
       "      <th>comment_count</th>\n",
       "      <th>countryId</th>\n",
       "    </tr>\n",
       "  </thead>\n",
       "  <tbody>\n",
       "    <tr>\n",
       "      <th>count</th>\n",
       "      <td>111118.000000</td>\n",
       "      <td>1.111180e+05</td>\n",
       "      <td>1.111180e+05</td>\n",
       "      <td>1.111180e+05</td>\n",
       "      <td>1.111180e+05</td>\n",
       "      <td>111118.000000</td>\n",
       "    </tr>\n",
       "    <tr>\n",
       "      <th>mean</th>\n",
       "      <td>19.612556</td>\n",
       "      <td>2.765743e+06</td>\n",
       "      <td>1.443815e+05</td>\n",
       "      <td>5.388276e+03</td>\n",
       "      <td>1.515026e+04</td>\n",
       "      <td>0.520087</td>\n",
       "    </tr>\n",
       "    <tr>\n",
       "      <th>std</th>\n",
       "      <td>6.782563</td>\n",
       "      <td>6.856869e+06</td>\n",
       "      <td>4.430392e+05</td>\n",
       "      <td>1.085357e+05</td>\n",
       "      <td>1.179113e+05</td>\n",
       "      <td>0.499599</td>\n",
       "    </tr>\n",
       "    <tr>\n",
       "      <th>min</th>\n",
       "      <td>1.000000</td>\n",
       "      <td>0.000000e+00</td>\n",
       "      <td>0.000000e+00</td>\n",
       "      <td>0.000000e+00</td>\n",
       "      <td>0.000000e+00</td>\n",
       "      <td>0.000000</td>\n",
       "    </tr>\n",
       "    <tr>\n",
       "      <th>25%</th>\n",
       "      <td>17.000000</td>\n",
       "      <td>4.889612e+05</td>\n",
       "      <td>1.715350e+04</td>\n",
       "      <td>4.490000e+02</td>\n",
       "      <td>1.176000e+03</td>\n",
       "      <td>0.000000</td>\n",
       "    </tr>\n",
       "    <tr>\n",
       "      <th>50%</th>\n",
       "      <td>23.000000</td>\n",
       "      <td>1.058264e+06</td>\n",
       "      <td>4.598300e+04</td>\n",
       "      <td>1.111000e+03</td>\n",
       "      <td>3.253000e+03</td>\n",
       "      <td>1.000000</td>\n",
       "    </tr>\n",
       "    <tr>\n",
       "      <th>75%</th>\n",
       "      <td>24.000000</td>\n",
       "      <td>2.467816e+06</td>\n",
       "      <td>1.199340e+05</td>\n",
       "      <td>3.079750e+03</td>\n",
       "      <td>8.833000e+03</td>\n",
       "      <td>1.000000</td>\n",
       "    </tr>\n",
       "    <tr>\n",
       "      <th>max</th>\n",
       "      <td>29.000000</td>\n",
       "      <td>2.644074e+08</td>\n",
       "      <td>1.611524e+07</td>\n",
       "      <td>1.234147e+07</td>\n",
       "      <td>6.738565e+06</td>\n",
       "      <td>1.000000</td>\n",
       "    </tr>\n",
       "  </tbody>\n",
       "</table>\n",
       "</div>"
      ],
      "text/plain": [
       "          categoryId    view_count         likes      dislikes  comment_count  \\\n",
       "count  111118.000000  1.111180e+05  1.111180e+05  1.111180e+05   1.111180e+05   \n",
       "mean       19.612556  2.765743e+06  1.443815e+05  5.388276e+03   1.515026e+04   \n",
       "std         6.782563  6.856869e+06  4.430392e+05  1.085357e+05   1.179113e+05   \n",
       "min         1.000000  0.000000e+00  0.000000e+00  0.000000e+00   0.000000e+00   \n",
       "25%        17.000000  4.889612e+05  1.715350e+04  4.490000e+02   1.176000e+03   \n",
       "50%        23.000000  1.058264e+06  4.598300e+04  1.111000e+03   3.253000e+03   \n",
       "75%        24.000000  2.467816e+06  1.199340e+05  3.079750e+03   8.833000e+03   \n",
       "max        29.000000  2.644074e+08  1.611524e+07  1.234147e+07   6.738565e+06   \n",
       "\n",
       "           countryId  \n",
       "count  111118.000000  \n",
       "mean        0.520087  \n",
       "std         0.499599  \n",
       "min         0.000000  \n",
       "25%         0.000000  \n",
       "50%         1.000000  \n",
       "75%         1.000000  \n",
       "max         1.000000  "
      ]
     },
     "execution_count": 19,
     "metadata": {},
     "output_type": "execute_result"
    }
   ],
   "source": [
    "country[num].describe()"
   ]
  },
  {
   "cell_type": "code",
   "execution_count": 20,
   "metadata": {},
   "outputs": [
    {
     "data": {
      "text/html": [
       "<div>\n",
       "<style scoped>\n",
       "    .dataframe tbody tr th:only-of-type {\n",
       "        vertical-align: middle;\n",
       "    }\n",
       "\n",
       "    .dataframe tbody tr th {\n",
       "        vertical-align: top;\n",
       "    }\n",
       "\n",
       "    .dataframe thead th {\n",
       "        text-align: right;\n",
       "    }\n",
       "</style>\n",
       "<table border=\"1\" class=\"dataframe\">\n",
       "  <thead>\n",
       "    <tr style=\"text-align: right;\">\n",
       "      <th></th>\n",
       "      <th>dislikes</th>\n",
       "    </tr>\n",
       "    <tr>\n",
       "      <th>title</th>\n",
       "      <th></th>\n",
       "    </tr>\n",
       "  </thead>\n",
       "  <tbody>\n",
       "    <tr>\n",
       "      <th>Sadak 2 | Official Trailer | Sanjay | Pooja | Alia | Aditya | Jisshu | Mahesh Bhatt | 28 Aug</th>\n",
       "      <td>113912935</td>\n",
       "    </tr>\n",
       "    <tr>\n",
       "      <th>BLACKPINK - 'Ice Cream (with Selena Gomez)' M/V</th>\n",
       "      <td>13479180</td>\n",
       "    </tr>\n",
       "    <tr>\n",
       "      <th>Khaali Peeli | Teaser | Ishaan | Ananya Panday | Maqbool Khan | Coming Soon</th>\n",
       "      <td>11146126</td>\n",
       "    </tr>\n",
       "    <tr>\n",
       "      <th>BTS (방탄소년단) 'Dynamite' Official MV</th>\n",
       "      <td>10031643</td>\n",
       "    </tr>\n",
       "    <tr>\n",
       "      <th>Chocolate - Tony Kakkar ft. Riyaz Aly &amp; Avneet Kaur | Satti Dhillon | Anshul Garg</th>\n",
       "      <td>7144754</td>\n",
       "    </tr>\n",
       "  </tbody>\n",
       "</table>\n",
       "</div>"
      ],
      "text/plain": [
       "                                                     dislikes\n",
       "title                                                        \n",
       "Sadak 2 | Official Trailer | Sanjay | Pooja | A...  113912935\n",
       "BLACKPINK - 'Ice Cream (with Selena Gomez)' M/V      13479180\n",
       "Khaali Peeli | Teaser | Ishaan | Ananya Panday ...   11146126\n",
       "BTS (방탄소년단) 'Dynamite' Official MV                   10031643\n",
       "Chocolate - Tony Kakkar ft. Riyaz Aly & Avneet ...    7144754"
      ]
     },
     "execution_count": 20,
     "metadata": {},
     "output_type": "execute_result"
    }
   ],
   "source": [
    "country[['title', 'dislikes']].groupby('title').sum().sort_values(by='dislikes', ascending=False).head()"
   ]
  },
  {
   "cell_type": "code",
   "execution_count": 21,
   "metadata": {},
   "outputs": [
    {
     "data": {
      "text/html": [
       "<div>\n",
       "<style scoped>\n",
       "    .dataframe tbody tr th:only-of-type {\n",
       "        vertical-align: middle;\n",
       "    }\n",
       "\n",
       "    .dataframe tbody tr th {\n",
       "        vertical-align: top;\n",
       "    }\n",
       "\n",
       "    .dataframe thead th {\n",
       "        text-align: right;\n",
       "    }\n",
       "</style>\n",
       "<table border=\"1\" class=\"dataframe\">\n",
       "  <thead>\n",
       "    <tr style=\"text-align: right;\">\n",
       "      <th></th>\n",
       "      <th>likes</th>\n",
       "    </tr>\n",
       "    <tr>\n",
       "      <th>title</th>\n",
       "      <th></th>\n",
       "    </tr>\n",
       "  </thead>\n",
       "  <tbody>\n",
       "    <tr>\n",
       "      <th>BTS (방탄소년단) 'Dynamite' Official MV</th>\n",
       "      <td>246430315</td>\n",
       "    </tr>\n",
       "    <tr>\n",
       "      <th>BLACKPINK - 'Ice Cream (with Selena Gomez)' M/V</th>\n",
       "      <td>183600058</td>\n",
       "    </tr>\n",
       "    <tr>\n",
       "      <th>BTS (방탄소년단) 'Life Goes On' Official MV</th>\n",
       "      <td>157494932</td>\n",
       "    </tr>\n",
       "    <tr>\n",
       "      <th>BLACKPINK – ‘Lovesick Girls’ M/V</th>\n",
       "      <td>127688743</td>\n",
       "    </tr>\n",
       "    <tr>\n",
       "      <th>BTS (방탄소년단) 'Butter' Official MV</th>\n",
       "      <td>101390793</td>\n",
       "    </tr>\n",
       "  </tbody>\n",
       "</table>\n",
       "</div>"
      ],
      "text/plain": [
       "                                                     likes\n",
       "title                                                     \n",
       "BTS (방탄소년단) 'Dynamite' Official MV               246430315\n",
       "BLACKPINK - 'Ice Cream (with Selena Gomez)' M/V  183600058\n",
       "BTS (방탄소년단) 'Life Goes On' Official MV           157494932\n",
       "BLACKPINK – ‘Lovesick Girls’ M/V                 127688743\n",
       "BTS (방탄소년단) 'Butter' Official MV                 101390793"
      ]
     },
     "execution_count": 21,
     "metadata": {},
     "output_type": "execute_result"
    }
   ],
   "source": [
    "country[['title', 'likes']].groupby('title').sum().sort_values(by='likes', ascending=False).head()"
   ]
  },
  {
   "cell_type": "code",
   "execution_count": 22,
   "metadata": {},
   "outputs": [
    {
     "data": {
      "text/html": [
       "<div>\n",
       "<style scoped>\n",
       "    .dataframe tbody tr th:only-of-type {\n",
       "        vertical-align: middle;\n",
       "    }\n",
       "\n",
       "    .dataframe tbody tr th {\n",
       "        vertical-align: top;\n",
       "    }\n",
       "\n",
       "    .dataframe thead th {\n",
       "        text-align: right;\n",
       "    }\n",
       "</style>\n",
       "<table border=\"1\" class=\"dataframe\">\n",
       "  <thead>\n",
       "    <tr style=\"text-align: right;\">\n",
       "      <th></th>\n",
       "      <th>view_count</th>\n",
       "    </tr>\n",
       "    <tr>\n",
       "      <th>title</th>\n",
       "      <th></th>\n",
       "    </tr>\n",
       "  </thead>\n",
       "  <tbody>\n",
       "    <tr>\n",
       "      <th>BTS (방탄소년단) 'Dynamite' Official MV</th>\n",
       "      <td>3275642028</td>\n",
       "    </tr>\n",
       "    <tr>\n",
       "      <th>BLACKPINK - 'Ice Cream (with Selena Gomez)' M/V</th>\n",
       "      <td>2466165884</td>\n",
       "    </tr>\n",
       "    <tr>\n",
       "      <th>BTS (방탄소년단) 'Life Goes On' Official MV</th>\n",
       "      <td>1897566760</td>\n",
       "    </tr>\n",
       "    <tr>\n",
       "      <th>BLACKPINK – ‘Lovesick Girls’ M/V</th>\n",
       "      <td>1646334577</td>\n",
       "    </tr>\n",
       "    <tr>\n",
       "      <th>KGF Chapter2 TEASER |Yash|Sanjay Dutt|Raveena Tandon|Srinidhi Shetty|Prashanth Neel|Vijay Kiragandur</th>\n",
       "      <td>1495945829</td>\n",
       "    </tr>\n",
       "  </tbody>\n",
       "</table>\n",
       "</div>"
      ],
      "text/plain": [
       "                                                    view_count\n",
       "title                                                         \n",
       "BTS (방탄소년단) 'Dynamite' Official MV                  3275642028\n",
       "BLACKPINK - 'Ice Cream (with Selena Gomez)' M/V     2466165884\n",
       "BTS (방탄소년단) 'Life Goes On' Official MV              1897566760\n",
       "BLACKPINK – ‘Lovesick Girls’ M/V                    1646334577\n",
       "KGF Chapter2 TEASER |Yash|Sanjay Dutt|Raveena T...  1495945829"
      ]
     },
     "execution_count": 22,
     "metadata": {},
     "output_type": "execute_result"
    }
   ],
   "source": [
    "country[['title', 'view_count']].groupby('title').sum().sort_values(by='view_count', ascending=False).head()"
   ]
  },
  {
   "cell_type": "code",
   "execution_count": 23,
   "metadata": {},
   "outputs": [
    {
     "data": {
      "text/html": [
       "<div>\n",
       "<style scoped>\n",
       "    .dataframe tbody tr th:only-of-type {\n",
       "        vertical-align: middle;\n",
       "    }\n",
       "\n",
       "    .dataframe tbody tr th {\n",
       "        vertical-align: top;\n",
       "    }\n",
       "\n",
       "    .dataframe thead th {\n",
       "        text-align: right;\n",
       "    }\n",
       "</style>\n",
       "<table border=\"1\" class=\"dataframe\">\n",
       "  <thead>\n",
       "    <tr style=\"text-align: right;\">\n",
       "      <th></th>\n",
       "      <th>view_count</th>\n",
       "      <th>likes</th>\n",
       "      <th>dislikes</th>\n",
       "    </tr>\n",
       "    <tr>\n",
       "      <th>title</th>\n",
       "      <th></th>\n",
       "      <th></th>\n",
       "      <th></th>\n",
       "    </tr>\n",
       "  </thead>\n",
       "  <tbody>\n",
       "    <tr>\n",
       "      <th>BTS (방탄소년단) 'Dynamite' Official MV</th>\n",
       "      <td>3275642028</td>\n",
       "      <td>246430315</td>\n",
       "      <td>10031643</td>\n",
       "    </tr>\n",
       "    <tr>\n",
       "      <th>BLACKPINK - 'Ice Cream (with Selena Gomez)' M/V</th>\n",
       "      <td>2466165884</td>\n",
       "      <td>183600058</td>\n",
       "      <td>13479180</td>\n",
       "    </tr>\n",
       "    <tr>\n",
       "      <th>BTS (방탄소년단) 'Life Goes On' Official MV</th>\n",
       "      <td>1897566760</td>\n",
       "      <td>157494932</td>\n",
       "      <td>1387505</td>\n",
       "    </tr>\n",
       "    <tr>\n",
       "      <th>BLACKPINK – ‘Lovesick Girls’ M/V</th>\n",
       "      <td>1646334577</td>\n",
       "      <td>127688743</td>\n",
       "      <td>1343248</td>\n",
       "    </tr>\n",
       "    <tr>\n",
       "      <th>KGF Chapter2 TEASER |Yash|Sanjay Dutt|Raveena Tandon|Srinidhi Shetty|Prashanth Neel|Vijay Kiragandur</th>\n",
       "      <td>1495945829</td>\n",
       "      <td>75880519</td>\n",
       "      <td>609054</td>\n",
       "    </tr>\n",
       "  </tbody>\n",
       "</table>\n",
       "</div>"
      ],
      "text/plain": [
       "                                                    view_count      likes  \\\n",
       "title                                                                       \n",
       "BTS (방탄소년단) 'Dynamite' Official MV                  3275642028  246430315   \n",
       "BLACKPINK - 'Ice Cream (with Selena Gomez)' M/V     2466165884  183600058   \n",
       "BTS (방탄소년단) 'Life Goes On' Official MV              1897566760  157494932   \n",
       "BLACKPINK – ‘Lovesick Girls’ M/V                    1646334577  127688743   \n",
       "KGF Chapter2 TEASER |Yash|Sanjay Dutt|Raveena T...  1495945829   75880519   \n",
       "\n",
       "                                                    dislikes  \n",
       "title                                                         \n",
       "BTS (방탄소년단) 'Dynamite' Official MV                  10031643  \n",
       "BLACKPINK - 'Ice Cream (with Selena Gomez)' M/V     13479180  \n",
       "BTS (방탄소년단) 'Life Goes On' Official MV               1387505  \n",
       "BLACKPINK – ‘Lovesick Girls’ M/V                     1343248  \n",
       "KGF Chapter2 TEASER |Yash|Sanjay Dutt|Raveena T...    609054  "
      ]
     },
     "execution_count": 23,
     "metadata": {},
     "output_type": "execute_result"
    }
   ],
   "source": [
    "dashbr=country[['title', 'view_count', 'likes', 'dislikes']].groupby('title').sum().sort_values(by='view_count', ascending=False).head()\n",
    "dashbr"
   ]
  },
  {
   "cell_type": "code",
   "execution_count": 24,
   "metadata": {},
   "outputs": [
    {
     "data": {
      "text/html": [
       "<div>\n",
       "<style scoped>\n",
       "    .dataframe tbody tr th:only-of-type {\n",
       "        vertical-align: middle;\n",
       "    }\n",
       "\n",
       "    .dataframe tbody tr th {\n",
       "        vertical-align: top;\n",
       "    }\n",
       "\n",
       "    .dataframe thead th {\n",
       "        text-align: right;\n",
       "    }\n",
       "</style>\n",
       "<table border=\"1\" class=\"dataframe\">\n",
       "  <thead>\n",
       "    <tr style=\"text-align: right;\">\n",
       "      <th></th>\n",
       "      <th>video_id</th>\n",
       "      <th>title</th>\n",
       "      <th>publishedAt</th>\n",
       "      <th>channelId</th>\n",
       "      <th>channelTitle</th>\n",
       "      <th>categoryId</th>\n",
       "      <th>trending_date</th>\n",
       "      <th>tags</th>\n",
       "      <th>view_count</th>\n",
       "      <th>likes</th>\n",
       "      <th>dislikes</th>\n",
       "      <th>comment_count</th>\n",
       "      <th>thumbnail_link</th>\n",
       "      <th>comments_disabled</th>\n",
       "      <th>ratings_disabled</th>\n",
       "      <th>description</th>\n",
       "      <th>country</th>\n",
       "      <th>countryId</th>\n",
       "    </tr>\n",
       "  </thead>\n",
       "  <tbody>\n",
       "    <tr>\n",
       "      <th>18829</th>\n",
       "      <td>qV_8_-fZ1fQ</td>\n",
       "      <td>Middle Class | PART -2 | Eniyan | Sema Bruh</td>\n",
       "      <td>2020-11-18T06:00:10Z</td>\n",
       "      <td>UCReyOXgMXK_DzUYhFAwMJ1A</td>\n",
       "      <td>Sema Bruh</td>\n",
       "      <td>23</td>\n",
       "      <td>2020-11-20T00:00:00Z</td>\n",
       "      <td>semma bruh|eniyan minion videos|awesome machi ...</td>\n",
       "      <td>314072</td>\n",
       "      <td>23480</td>\n",
       "      <td>356</td>\n",
       "      <td>1574</td>\n",
       "      <td>https://i.ytimg.com/vi/qV_8_-fZ1fQ/default.jpg</td>\n",
       "      <td>False</td>\n",
       "      <td>False</td>\n",
       "      <td>#Semabruh #eniyan #MiddleclassDownload winzo a...</td>\n",
       "      <td>IN</td>\n",
       "      <td>0</td>\n",
       "    </tr>\n",
       "  </tbody>\n",
       "</table>\n",
       "</div>"
      ],
      "text/plain": [
       "          video_id                                        title  \\\n",
       "18829  qV_8_-fZ1fQ  Middle Class | PART -2 | Eniyan | Sema Bruh   \n",
       "\n",
       "                publishedAt                 channelId channelTitle  \\\n",
       "18829  2020-11-18T06:00:10Z  UCReyOXgMXK_DzUYhFAwMJ1A    Sema Bruh   \n",
       "\n",
       "       categoryId         trending_date  \\\n",
       "18829          23  2020-11-20T00:00:00Z   \n",
       "\n",
       "                                                    tags  view_count  likes  \\\n",
       "18829  semma bruh|eniyan minion videos|awesome machi ...      314072  23480   \n",
       "\n",
       "       dislikes  comment_count  \\\n",
       "18829       356           1574   \n",
       "\n",
       "                                       thumbnail_link  comments_disabled  \\\n",
       "18829  https://i.ytimg.com/vi/qV_8_-fZ1fQ/default.jpg              False   \n",
       "\n",
       "       ratings_disabled                                        description  \\\n",
       "18829             False  #Semabruh #eniyan #MiddleclassDownload winzo a...   \n",
       "\n",
       "      country  countryId  \n",
       "18829      IN          0  "
      ]
     },
     "execution_count": 24,
     "metadata": {},
     "output_type": "execute_result"
    }
   ],
   "source": [
    "country.sample()"
   ]
  },
  {
   "cell_type": "code",
   "execution_count": 25,
   "metadata": {},
   "outputs": [],
   "source": [
    "def correlation(df, varT, xpoint=-0.5, showGraph=True):\n",
    "    corr = df.corr()\n",
    "    print(f'\\nFeatures correlation:\\n'\n",
    "          f'Target: {varT}\\n'\n",
    "          f'Reference.: {xpoint}\\n'\n",
    "          f'\\nMain features:')\n",
    "    corrs = corr[varT]\n",
    "    features = []\n",
    "    for i in range(0, len(corrs)):\n",
    "        if corrs[i] > xpoint and corrs.index[i] != varT:\n",
    "            print(corrs.index[i], f'{corrs[i]:.2f}')\n",
    "            features.append(corrs.index[i])\n",
    "    if showGraph:\n",
    "        sns.heatmap(corr,\n",
    "                    annot=True, fmt='.2f', vmin=-1, vmax=1, linewidth=0.01,\n",
    "                    linecolor='black', cmap='RdBu_r'\n",
    "                    )\n",
    "#         plt.title('Correlations between features w/ target')\n",
    "        plt.show()\n",
    "    return features"
   ]
  },
  {
   "cell_type": "code",
   "execution_count": 26,
   "metadata": {},
   "outputs": [],
   "source": [
    "varTarget = 'likes'"
   ]
  },
  {
   "cell_type": "code",
   "execution_count": 27,
   "metadata": {},
   "outputs": [
    {
     "name": "stdout",
     "output_type": "stream",
     "text": [
      "\n",
      "Features correlation:\n",
      "Target: likes\n",
      "Reference.: 0.5\n",
      "\n",
      "Main features:\n",
      "view_count 0.83\n",
      "comment_count 0.78\n"
     ]
    },
    {
     "data": {
      "image/png": "[encoded data removed]",
      "text/plain": [
       "<Figure size 432x288 with 2 Axes>"
      ]
     },
     "metadata": {
      "needs_background": "light"
     },
     "output_type": "display_data"
    }
   ],
   "source": [
    "varFeatures = correlation(country, varTarget, 0.5)"
   ]
  },
  {
   "cell_type": "code",
   "execution_count": 28,
   "metadata": {},
   "outputs": [],
   "source": [
    "def removeOutliers(out, varTarget):\n",
    "    print('\\nOutliers\\nRemoving ...', end='')\n",
    "    cidgrp = out[varTarget]\n",
    "    print('..', end='')\n",
    "    # quantiles\n",
    "    qtl1 = cidgrp.quantile(.25)  \n",
    "    qtl3 = cidgrp.quantile(.75)\n",
    "    print('..', end='')\n",
    "    # calculating iqr\n",
    "    iqr = qtl3 - qtl1\n",
    "    print('..', end='')\n",
    "\n",
    "    # creating limits\n",
    "    baixo = qtl1 - 1.5 * iqr\n",
    "    alto = qtl3 + 1.5 * iqr\n",
    "    print('..', end='')\n",
    "\n",
    "    # removing outliers\n",
    "    novodf = pd.DataFrame()\n",
    "    print('..', end='')\n",
    "\n",
    "    limites = out[varTarget].between(left=baixo, right=alto, inclusive=True)\n",
    "    novodf = pd.concat([novodf, out[limites]])\n",
    "\n",
    "    print('.....Done')\n",
    "\n",
    "    return novodf"
   ]
  },
  {
   "cell_type": "code",
   "execution_count": 29,
   "metadata": {},
   "outputs": [
    {
     "name": "stdout",
     "output_type": "stream",
     "text": [
      "\n",
      "Outliers\n",
      "Removing ..................Done\n"
     ]
    }
   ],
   "source": [
    "noOut = removeOutliers(country, varTarget)"
   ]
  },
  {
   "cell_type": "code",
   "execution_count": 30,
   "metadata": {},
   "outputs": [
    {
     "data": {
      "text/plain": [
       "Text(0.5, 1.0, 'Original No outliers')"
      ]
     },
     "execution_count": 30,
     "metadata": {},
     "output_type": "execute_result"
    },
    {
     "data": {
      "image/png": "[encoded data removed]",
      "text/plain": [
       "<Figure size 1080x360 with 2 Axes>"
      ]
     },
     "metadata": {
      "needs_background": "light"
     },
     "output_type": "display_data"
    }
   ],
   "source": [
    "# Two subplots\n",
    "fig, (ax1, ax2) = plt.subplots(ncols=2, sharey=True, figsize=(15,5))\n",
    "sns.boxplot(x=country[varTarget], ax=ax1).set_title('Original')\n",
    "sns.boxplot(x=noOut[varTarget], ax=ax2).set_title('Original No outliers')"
   ]
  },
  {
   "cell_type": "code",
   "execution_count": 31,
   "metadata": {},
   "outputs": [
    {
     "name": "stdout",
     "output_type": "stream",
     "text": [
      "count    1.111180e+05\n",
      "mean     1.443815e+05\n",
      "std      4.430392e+05\n",
      "min      0.000000e+00\n",
      "25%      1.715350e+04\n",
      "50%      4.598300e+04\n",
      "75%      1.199340e+05\n",
      "max      1.611524e+07\n",
      "Name: likes, dtype: float64\n"
     ]
    },
    {
     "data": {
      "text/plain": [
       "<AxesSubplot:>"
      ]
     },
     "execution_count": 31,
     "metadata": {},
     "output_type": "execute_result"
    },
    {
     "data": {
      "image/png": "[encoded data removed]",
      "text/plain": [
       "<Figure size 432x288 with 1 Axes>"
      ]
     },
     "metadata": {
      "needs_background": "light"
     },
     "output_type": "display_data"
    }
   ],
   "source": [
    "# Plotting dataset information\n",
    "print(country[varTarget].describe())\n",
    "sns.barplot(x=country[varTarget].describe().index[1:], y=country[varTarget].describe().values[1:])"
   ]
  },
  {
   "cell_type": "code",
   "execution_count": 32,
   "metadata": {},
   "outputs": [
    {
     "name": "stdout",
     "output_type": "stream",
     "text": [
      "count     98746.000000\n",
      "mean      59911.773024\n",
      "std       61064.740513\n",
      "min           0.000000\n",
      "25%       15042.250000\n",
      "50%       37806.000000\n",
      "75%       83743.000000\n",
      "max      274104.000000\n",
      "Name: likes, dtype: float64\n"
     ]
    },
    {
     "data": {
      "text/plain": [
       "<AxesSubplot:>"
      ]
     },
     "execution_count": 32,
     "metadata": {},
     "output_type": "execute_result"
    },
    {
     "data": {
      "image/png": "[encoded data removed]",
      "text/plain": [
       "<Figure size 432x288 with 1 Axes>"
      ]
     },
     "metadata": {
      "needs_background": "light"
     },
     "output_type": "display_data"
    }
   ],
   "source": [
    "print(noOut[varTarget].describe())\n",
    "sns.barplot(x=noOut[varTarget].describe().index[1:], y=noOut[varTarget].describe().values[1:])"
   ]
  },
  {
   "cell_type": "markdown",
   "metadata": {},
   "source": [
    "**Predictions**"
   ]
  },
  {
   "cell_type": "code",
   "execution_count": 33,
   "metadata": {},
   "outputs": [
    {
     "name": "stdout",
     "output_type": "stream",
     "text": [
      "\n",
      "Features correlation:\n",
      "Target: likes\n",
      "Reference.: 0.5\n",
      "\n",
      "Main features:\n",
      "comment_count 0.54\n"
     ]
    },
    {
     "data": {
      "image/png": "[encoded data removed]",
      "text/plain": [
       "<Figure size 432x288 with 2 Axes>"
      ]
     },
     "metadata": {
      "needs_background": "light"
     },
     "output_type": "display_data"
    }
   ],
   "source": [
    "varFeatures = correlation(noOut, varTarget, 0.5)"
   ]
  },
  {
   "cell_type": "code",
   "execution_count": 34,
   "metadata": {},
   "outputs": [],
   "source": [
    "from sklearn.ensemble import RandomForestRegressor, GradientBoostingRegressor\n",
    "from sklearn.tree import DecisionTreeRegressor\n",
    "from sklearn.linear_model import LinearRegression, LogisticRegression, PoissonRegressor\n",
    "from sklearn.svm import SVR\n",
    "from sklearn.naive_bayes import GaussianNB\n",
    "from sklearn.dummy import DummyRegressor\n",
    "from sklearn.model_selection import train_test_split\n",
    "# Calculate the smallest absolute mean error between the 2 data presented\n",
    "from sklearn.metrics import mean_absolute_error"
   ]
  },
  {
   "cell_type": "code",
   "execution_count": 35,
   "metadata": {},
   "outputs": [],
   "source": [
    "regressors = [\n",
    "        DecisionTreeRegressor(),\n",
    "        RandomForestRegressor(),\n",
    "#         SVR(),\n",
    "#         LinearRegression(),\n",
    "#         GradientBoostingRegressor(),\n",
    "#         PoissonRegressor(),\n",
    "#         DummyRegressor(),\n",
    "#         LogisticRegression(),\n",
    "#         GaussianNB()\n",
    "    ]"
   ]
  },
  {
   "cell_type": "code",
   "execution_count": null,
   "metadata": {},
   "outputs": [],
   "source": []
  },
  {
   "cell_type": "code",
   "execution_count": 36,
   "metadata": {},
   "outputs": [],
   "source": [
    "X = noOut[varFeatures]\n",
    "y = noOut[varTarget]"
   ]
  },
  {
   "cell_type": "code",
   "execution_count": 37,
   "metadata": {},
   "outputs": [
    {
     "data": {
      "text/plain": [
       "pandas.core.frame.DataFrame"
      ]
     },
     "execution_count": 37,
     "metadata": {},
     "output_type": "execute_result"
    }
   ],
   "source": [
    "type(X)"
   ]
  },
  {
   "cell_type": "code",
   "execution_count": 38,
   "metadata": {},
   "outputs": [
    {
     "data": {
      "text/plain": [
       "pandas.core.series.Series"
      ]
     },
     "execution_count": 38,
     "metadata": {},
     "output_type": "execute_result"
    }
   ],
   "source": [
    "type(y)"
   ]
  },
  {
   "cell_type": "code",
   "execution_count": 39,
   "metadata": {},
   "outputs": [],
   "source": [
    "y = pd.DataFrame(y)"
   ]
  },
  {
   "cell_type": "code",
   "execution_count": 40,
   "metadata": {},
   "outputs": [],
   "source": [
    "y1 = y"
   ]
  },
  {
   "cell_type": "code",
   "execution_count": 41,
   "metadata": {},
   "outputs": [
    {
     "data": {
      "text/plain": [
       "pandas.core.frame.DataFrame"
      ]
     },
     "execution_count": 41,
     "metadata": {},
     "output_type": "execute_result"
    }
   ],
   "source": [
    "type(y)"
   ]
  },
  {
   "cell_type": "code",
   "execution_count": 42,
   "metadata": {},
   "outputs": [],
   "source": [
    "y = y['likes']"
   ]
  },
  {
   "cell_type": "code",
   "execution_count": 43,
   "metadata": {},
   "outputs": [
    {
     "data": {
      "text/plain": [
       "0         224925\n",
       "4         268817\n",
       "7          30086\n",
       "8          21510\n",
       "9          97192\n",
       "           ...  \n",
       "111113     31564\n",
       "111114    178692\n",
       "111115    170889\n",
       "111116     50849\n",
       "111117     75121\n",
       "Name: likes, Length: 98746, dtype: int64"
      ]
     },
     "execution_count": 43,
     "metadata": {},
     "output_type": "execute_result"
    }
   ],
   "source": [
    "y"
   ]
  },
  {
   "cell_type": "code",
   "execution_count": 44,
   "metadata": {},
   "outputs": [],
   "source": [
    "Xtrain, Xtest, ytrain, ytest = train_test_split(X, y, test_size=0.3, random_state=42)"
   ]
  },
  {
   "cell_type": "code",
   "execution_count": 45,
   "metadata": {},
   "outputs": [
    {
     "data": {
      "text/html": [
       "<div>\n",
       "<style scoped>\n",
       "    .dataframe tbody tr th:only-of-type {\n",
       "        vertical-align: middle;\n",
       "    }\n",
       "\n",
       "    .dataframe tbody tr th {\n",
       "        vertical-align: top;\n",
       "    }\n",
       "\n",
       "    .dataframe thead th {\n",
       "        text-align: right;\n",
       "    }\n",
       "</style>\n",
       "<table border=\"1\" class=\"dataframe\">\n",
       "  <thead>\n",
       "    <tr style=\"text-align: right;\">\n",
       "      <th></th>\n",
       "      <th>comment_count</th>\n",
       "    </tr>\n",
       "  </thead>\n",
       "  <tbody>\n",
       "    <tr>\n",
       "      <th>97679</th>\n",
       "      <td>5687</td>\n",
       "    </tr>\n",
       "    <tr>\n",
       "      <th>9935</th>\n",
       "      <td>3223</td>\n",
       "    </tr>\n",
       "    <tr>\n",
       "      <th>28775</th>\n",
       "      <td>811</td>\n",
       "    </tr>\n",
       "    <tr>\n",
       "      <th>110875</th>\n",
       "      <td>2135</td>\n",
       "    </tr>\n",
       "    <tr>\n",
       "      <th>46949</th>\n",
       "      <td>164</td>\n",
       "    </tr>\n",
       "    <tr>\n",
       "      <th>...</th>\n",
       "      <td>...</td>\n",
       "    </tr>\n",
       "    <tr>\n",
       "      <th>6997</th>\n",
       "      <td>805</td>\n",
       "    </tr>\n",
       "    <tr>\n",
       "      <th>61270</th>\n",
       "      <td>1630</td>\n",
       "    </tr>\n",
       "    <tr>\n",
       "      <th>86383</th>\n",
       "      <td>2665</td>\n",
       "    </tr>\n",
       "    <tr>\n",
       "      <th>964</th>\n",
       "      <td>639</td>\n",
       "    </tr>\n",
       "    <tr>\n",
       "      <th>17498</th>\n",
       "      <td>1340</td>\n",
       "    </tr>\n",
       "  </tbody>\n",
       "</table>\n",
       "<p>69122 rows × 1 columns</p>\n",
       "</div>"
      ],
      "text/plain": [
       "        comment_count\n",
       "97679            5687\n",
       "9935             3223\n",
       "28775             811\n",
       "110875           2135\n",
       "46949             164\n",
       "...               ...\n",
       "6997              805\n",
       "61270            1630\n",
       "86383            2665\n",
       "964               639\n",
       "17498            1340\n",
       "\n",
       "[69122 rows x 1 columns]"
      ]
     },
     "execution_count": 45,
     "metadata": {},
     "output_type": "execute_result"
    }
   ],
   "source": [
    "Xtrain"
   ]
  },
  {
   "cell_type": "code",
   "execution_count": 46,
   "metadata": {},
   "outputs": [
    {
     "data": {
      "text/plain": [
       "97679     70109\n",
       "9935      47123\n",
       "28775     18211\n",
       "110875    73884\n",
       "46949      5067\n",
       "          ...  \n",
       "6997       3055\n",
       "61270     23400\n",
       "86383     35624\n",
       "964        6958\n",
       "17498     20406\n",
       "Name: likes, Length: 69122, dtype: int64"
      ]
     },
     "execution_count": 46,
     "metadata": {},
     "output_type": "execute_result"
    }
   ],
   "source": [
    "ytrain"
   ]
  },
  {
   "cell_type": "code",
   "execution_count": 47,
   "metadata": {},
   "outputs": [
    {
     "data": {
      "text/plain": [
       "(69122,)"
      ]
     },
     "execution_count": 47,
     "metadata": {},
     "output_type": "execute_result"
    }
   ],
   "source": [
    "ytrain.shape"
   ]
  },
  {
   "cell_type": "code",
   "execution_count": 48,
   "metadata": {},
   "outputs": [
    {
     "data": {
      "text/html": [
       "<div>\n",
       "<style scoped>\n",
       "    .dataframe tbody tr th:only-of-type {\n",
       "        vertical-align: middle;\n",
       "    }\n",
       "\n",
       "    .dataframe tbody tr th {\n",
       "        vertical-align: top;\n",
       "    }\n",
       "\n",
       "    .dataframe thead th {\n",
       "        text-align: right;\n",
       "    }\n",
       "</style>\n",
       "<table border=\"1\" class=\"dataframe\">\n",
       "  <thead>\n",
       "    <tr style=\"text-align: right;\">\n",
       "      <th></th>\n",
       "      <th>likes</th>\n",
       "    </tr>\n",
       "  </thead>\n",
       "  <tbody>\n",
       "    <tr>\n",
       "      <th>0</th>\n",
       "      <td>224925</td>\n",
       "    </tr>\n",
       "    <tr>\n",
       "      <th>4</th>\n",
       "      <td>268817</td>\n",
       "    </tr>\n",
       "    <tr>\n",
       "      <th>7</th>\n",
       "      <td>30086</td>\n",
       "    </tr>\n",
       "    <tr>\n",
       "      <th>8</th>\n",
       "      <td>21510</td>\n",
       "    </tr>\n",
       "    <tr>\n",
       "      <th>9</th>\n",
       "      <td>97192</td>\n",
       "    </tr>\n",
       "    <tr>\n",
       "      <th>...</th>\n",
       "      <td>...</td>\n",
       "    </tr>\n",
       "    <tr>\n",
       "      <th>111113</th>\n",
       "      <td>31564</td>\n",
       "    </tr>\n",
       "    <tr>\n",
       "      <th>111114</th>\n",
       "      <td>178692</td>\n",
       "    </tr>\n",
       "    <tr>\n",
       "      <th>111115</th>\n",
       "      <td>170889</td>\n",
       "    </tr>\n",
       "    <tr>\n",
       "      <th>111116</th>\n",
       "      <td>50849</td>\n",
       "    </tr>\n",
       "    <tr>\n",
       "      <th>111117</th>\n",
       "      <td>75121</td>\n",
       "    </tr>\n",
       "  </tbody>\n",
       "</table>\n",
       "<p>98746 rows × 1 columns</p>\n",
       "</div>"
      ],
      "text/plain": [
       "         likes\n",
       "0       224925\n",
       "4       268817\n",
       "7        30086\n",
       "8        21510\n",
       "9        97192\n",
       "...        ...\n",
       "111113   31564\n",
       "111114  178692\n",
       "111115  170889\n",
       "111116   50849\n",
       "111117   75121\n",
       "\n",
       "[98746 rows x 1 columns]"
      ]
     },
     "execution_count": 48,
     "metadata": {},
     "output_type": "execute_result"
    }
   ],
   "source": [
    "y1"
   ]
  },
  {
   "cell_type": "code",
   "execution_count": 49,
   "metadata": {},
   "outputs": [
    {
     "data": {
      "text/plain": [
       "pandas.core.frame.DataFrame"
      ]
     },
     "execution_count": 49,
     "metadata": {},
     "output_type": "execute_result"
    }
   ],
   "source": [
    "type(y1)"
   ]
  },
  {
   "cell_type": "code",
   "execution_count": 50,
   "metadata": {},
   "outputs": [
    {
     "data": {
      "text/plain": [
       "(98746, 1)"
      ]
     },
     "execution_count": 50,
     "metadata": {},
     "output_type": "execute_result"
    }
   ],
   "source": [
    "y1.shape"
   ]
  },
  {
   "cell_type": "code",
   "execution_count": 51,
   "metadata": {},
   "outputs": [
    {
     "data": {
      "text/html": [
       "<div>\n",
       "<style scoped>\n",
       "    .dataframe tbody tr th:only-of-type {\n",
       "        vertical-align: middle;\n",
       "    }\n",
       "\n",
       "    .dataframe tbody tr th {\n",
       "        vertical-align: top;\n",
       "    }\n",
       "\n",
       "    .dataframe thead th {\n",
       "        text-align: right;\n",
       "    }\n",
       "</style>\n",
       "<table border=\"1\" class=\"dataframe\">\n",
       "  <thead>\n",
       "    <tr style=\"text-align: right;\">\n",
       "      <th></th>\n",
       "      <th>likes</th>\n",
       "    </tr>\n",
       "  </thead>\n",
       "  <tbody>\n",
       "    <tr>\n",
       "      <th>0</th>\n",
       "      <td>224925</td>\n",
       "    </tr>\n",
       "    <tr>\n",
       "      <th>1</th>\n",
       "      <td>268817</td>\n",
       "    </tr>\n",
       "    <tr>\n",
       "      <th>2</th>\n",
       "      <td>30086</td>\n",
       "    </tr>\n",
       "    <tr>\n",
       "      <th>3</th>\n",
       "      <td>21510</td>\n",
       "    </tr>\n",
       "    <tr>\n",
       "      <th>4</th>\n",
       "      <td>97192</td>\n",
       "    </tr>\n",
       "    <tr>\n",
       "      <th>...</th>\n",
       "      <td>...</td>\n",
       "    </tr>\n",
       "    <tr>\n",
       "      <th>98741</th>\n",
       "      <td>31564</td>\n",
       "    </tr>\n",
       "    <tr>\n",
       "      <th>98742</th>\n",
       "      <td>178692</td>\n",
       "    </tr>\n",
       "    <tr>\n",
       "      <th>98743</th>\n",
       "      <td>170889</td>\n",
       "    </tr>\n",
       "    <tr>\n",
       "      <th>98744</th>\n",
       "      <td>50849</td>\n",
       "    </tr>\n",
       "    <tr>\n",
       "      <th>98745</th>\n",
       "      <td>75121</td>\n",
       "    </tr>\n",
       "  </tbody>\n",
       "</table>\n",
       "<p>98746 rows × 1 columns</p>\n",
       "</div>"
      ],
      "text/plain": [
       "        likes\n",
       "0      224925\n",
       "1      268817\n",
       "2       30086\n",
       "3       21510\n",
       "4       97192\n",
       "...       ...\n",
       "98741   31564\n",
       "98742  178692\n",
       "98743  170889\n",
       "98744   50849\n",
       "98745   75121\n",
       "\n",
       "[98746 rows x 1 columns]"
      ]
     },
     "execution_count": 51,
     "metadata": {},
     "output_type": "execute_result"
    }
   ],
   "source": [
    "y1.reset_index(drop=True)"
   ]
  },
  {
   "cell_type": "code",
   "execution_count": 52,
   "metadata": {},
   "outputs": [
    {
     "data": {
      "text/html": [
       "<div>\n",
       "<style scoped>\n",
       "    .dataframe tbody tr th:only-of-type {\n",
       "        vertical-align: middle;\n",
       "    }\n",
       "\n",
       "    .dataframe tbody tr th {\n",
       "        vertical-align: top;\n",
       "    }\n",
       "\n",
       "    .dataframe thead th {\n",
       "        text-align: right;\n",
       "    }\n",
       "</style>\n",
       "<table border=\"1\" class=\"dataframe\">\n",
       "  <thead>\n",
       "    <tr style=\"text-align: right;\">\n",
       "      <th></th>\n",
       "      <th>likes</th>\n",
       "    </tr>\n",
       "  </thead>\n",
       "  <tbody>\n",
       "    <tr>\n",
       "      <th>0</th>\n",
       "      <td>224925</td>\n",
       "    </tr>\n",
       "    <tr>\n",
       "      <th>4</th>\n",
       "      <td>268817</td>\n",
       "    </tr>\n",
       "    <tr>\n",
       "      <th>7</th>\n",
       "      <td>30086</td>\n",
       "    </tr>\n",
       "    <tr>\n",
       "      <th>8</th>\n",
       "      <td>21510</td>\n",
       "    </tr>\n",
       "    <tr>\n",
       "      <th>9</th>\n",
       "      <td>97192</td>\n",
       "    </tr>\n",
       "    <tr>\n",
       "      <th>...</th>\n",
       "      <td>...</td>\n",
       "    </tr>\n",
       "    <tr>\n",
       "      <th>111113</th>\n",
       "      <td>31564</td>\n",
       "    </tr>\n",
       "    <tr>\n",
       "      <th>111114</th>\n",
       "      <td>178692</td>\n",
       "    </tr>\n",
       "    <tr>\n",
       "      <th>111115</th>\n",
       "      <td>170889</td>\n",
       "    </tr>\n",
       "    <tr>\n",
       "      <th>111116</th>\n",
       "      <td>50849</td>\n",
       "    </tr>\n",
       "    <tr>\n",
       "      <th>111117</th>\n",
       "      <td>75121</td>\n",
       "    </tr>\n",
       "  </tbody>\n",
       "</table>\n",
       "<p>98746 rows × 1 columns</p>\n",
       "</div>"
      ],
      "text/plain": [
       "         likes\n",
       "0       224925\n",
       "4       268817\n",
       "7        30086\n",
       "8        21510\n",
       "9        97192\n",
       "...        ...\n",
       "111113   31564\n",
       "111114  178692\n",
       "111115  170889\n",
       "111116   50849\n",
       "111117   75121\n",
       "\n",
       "[98746 rows x 1 columns]"
      ]
     },
     "execution_count": 52,
     "metadata": {},
     "output_type": "execute_result"
    }
   ],
   "source": [
    "y1"
   ]
  },
  {
   "cell_type": "code",
   "execution_count": 53,
   "metadata": {},
   "outputs": [
    {
     "data": {
      "text/plain": [
       "97679     70109\n",
       "9935      47123\n",
       "28775     18211\n",
       "110875    73884\n",
       "46949      5067\n",
       "          ...  \n",
       "6997       3055\n",
       "61270     23400\n",
       "86383     35624\n",
       "964        6958\n",
       "17498     20406\n",
       "Name: likes, Length: 69122, dtype: int64"
      ]
     },
     "execution_count": 53,
     "metadata": {},
     "output_type": "execute_result"
    }
   ],
   "source": [
    "ytrain"
   ]
  },
  {
   "cell_type": "code",
   "execution_count": 54,
   "metadata": {},
   "outputs": [
    {
     "data": {
      "text/html": [
       "<div>\n",
       "<style scoped>\n",
       "    .dataframe tbody tr th:only-of-type {\n",
       "        vertical-align: middle;\n",
       "    }\n",
       "\n",
       "    .dataframe tbody tr th {\n",
       "        vertical-align: top;\n",
       "    }\n",
       "\n",
       "    .dataframe thead th {\n",
       "        text-align: right;\n",
       "    }\n",
       "</style>\n",
       "<table border=\"1\" class=\"dataframe\">\n",
       "  <thead>\n",
       "    <tr style=\"text-align: right;\">\n",
       "      <th></th>\n",
       "      <th>comment_count</th>\n",
       "    </tr>\n",
       "  </thead>\n",
       "  <tbody>\n",
       "    <tr>\n",
       "      <th>50289</th>\n",
       "      <td>287</td>\n",
       "    </tr>\n",
       "    <tr>\n",
       "      <th>53561</th>\n",
       "      <td>1265</td>\n",
       "    </tr>\n",
       "    <tr>\n",
       "      <th>69582</th>\n",
       "      <td>30553</td>\n",
       "    </tr>\n",
       "    <tr>\n",
       "      <th>27416</th>\n",
       "      <td>97</td>\n",
       "    </tr>\n",
       "    <tr>\n",
       "      <th>1041</th>\n",
       "      <td>4204</td>\n",
       "    </tr>\n",
       "    <tr>\n",
       "      <th>...</th>\n",
       "      <td>...</td>\n",
       "    </tr>\n",
       "    <tr>\n",
       "      <th>33404</th>\n",
       "      <td>151</td>\n",
       "    </tr>\n",
       "    <tr>\n",
       "      <th>6907</th>\n",
       "      <td>7239</td>\n",
       "    </tr>\n",
       "    <tr>\n",
       "      <th>51219</th>\n",
       "      <td>9463</td>\n",
       "    </tr>\n",
       "    <tr>\n",
       "      <th>48159</th>\n",
       "      <td>2071</td>\n",
       "    </tr>\n",
       "    <tr>\n",
       "      <th>6471</th>\n",
       "      <td>6610</td>\n",
       "    </tr>\n",
       "  </tbody>\n",
       "</table>\n",
       "<p>29624 rows × 1 columns</p>\n",
       "</div>"
      ],
      "text/plain": [
       "       comment_count\n",
       "50289            287\n",
       "53561           1265\n",
       "69582          30553\n",
       "27416             97\n",
       "1041            4204\n",
       "...              ...\n",
       "33404            151\n",
       "6907            7239\n",
       "51219           9463\n",
       "48159           2071\n",
       "6471            6610\n",
       "\n",
       "[29624 rows x 1 columns]"
      ]
     },
     "execution_count": 54,
     "metadata": {},
     "output_type": "execute_result"
    }
   ],
   "source": [
    "Xtest"
   ]
  },
  {
   "cell_type": "code",
   "execution_count": 55,
   "metadata": {},
   "outputs": [
    {
     "data": {
      "text/plain": [
       "50289      9482\n",
       "53561      8177\n",
       "69582    124076\n",
       "27416      2156\n",
       "1041      71792\n",
       "          ...  \n",
       "33404      4393\n",
       "6907     117612\n",
       "51219    146298\n",
       "48159     36489\n",
       "6471      69986\n",
       "Name: likes, Length: 29624, dtype: int64"
      ]
     },
     "execution_count": 55,
     "metadata": {},
     "output_type": "execute_result"
    }
   ],
   "source": [
    "ytest"
   ]
  },
  {
   "cell_type": "code",
   "execution_count": 56,
   "metadata": {},
   "outputs": [],
   "source": [
    "reg = []\n",
    "mae = []\n",
    "sco = []\n",
    "for regressor in regressors:\n",
    "    model = regressor\n",
    "    model.fit(Xtrain, np.array(ytrain))\n",
    "    sco.append(model.score(Xtrain, ytrain))\n",
    "    previous = model.predict(Xtest)\n",
    "    mae.append(round(mean_absolute_error(ytest, previous), 2))\n",
    "    reg.append(regressor)"
   ]
  },
  {
   "cell_type": "code",
   "execution_count": 57,
   "metadata": {},
   "outputs": [
    {
     "data": {
      "text/plain": [
       "0.44606052023438425"
      ]
     },
     "execution_count": 57,
     "metadata": {},
     "output_type": "execute_result"
    }
   ],
   "source": [
    "model.score(Xtest,ytest)"
   ]
  },
  {
   "cell_type": "code",
   "execution_count": 58,
   "metadata": {},
   "outputs": [],
   "source": [
    "history = model.fit(Xtrain, ytrain)"
   ]
  },
  {
   "cell_type": "code",
   "execution_count": 59,
   "metadata": {},
   "outputs": [],
   "source": [
    "from sklearn.metrics import accuracy_score\n"
   ]
  },
  {
   "cell_type": "code",
   "execution_count": 60,
   "metadata": {},
   "outputs": [
    {
     "data": {
      "text/plain": [
       "0.0016540642722117202"
      ]
     },
     "execution_count": 60,
     "metadata": {},
     "output_type": "execute_result"
    }
   ],
   "source": [
    "accuracy_score(Xtest,ytest)"
   ]
  },
  {
   "cell_type": "code",
   "execution_count": 61,
   "metadata": {},
   "outputs": [
    {
     "data": {
      "text/plain": [
       "(29624, 29624)"
      ]
     },
     "execution_count": 61,
     "metadata": {},
     "output_type": "execute_result"
    }
   ],
   "source": [
    "len(Xtest),len(ytest)"
   ]
  },
  {
   "cell_type": "code",
   "execution_count": 62,
   "metadata": {},
   "outputs": [],
   "source": [
    "# Generating mean absolute error and score for the model\n",
    "meuMae = pd.DataFrame(columns=['Regressor', 'mae', 'score'])\n",
    "meuMae['Regressor'] = reg\n",
    "meuMae['mae'] = mae\n",
    "meuMae['score'] = sco"
   ]
  },
  {
   "cell_type": "code",
   "execution_count": 63,
   "metadata": {},
   "outputs": [
    {
     "data": {
      "text/html": [
       "<div>\n",
       "<style scoped>\n",
       "    .dataframe tbody tr th:only-of-type {\n",
       "        vertical-align: middle;\n",
       "    }\n",
       "\n",
       "    .dataframe tbody tr th {\n",
       "        vertical-align: top;\n",
       "    }\n",
       "\n",
       "    .dataframe thead th {\n",
       "        text-align: right;\n",
       "    }\n",
       "</style>\n",
       "<table border=\"1\" class=\"dataframe\">\n",
       "  <thead>\n",
       "    <tr style=\"text-align: right;\">\n",
       "      <th></th>\n",
       "      <th>Regressor</th>\n",
       "      <th>mae</th>\n",
       "      <th>score</th>\n",
       "    </tr>\n",
       "  </thead>\n",
       "  <tbody>\n",
       "    <tr>\n",
       "      <th>0</th>\n",
       "      <td>DecisionTreeRegressor()</td>\n",
       "      <td>30951.70</td>\n",
       "      <td>0.769149</td>\n",
       "    </tr>\n",
       "    <tr>\n",
       "      <th>1</th>\n",
       "      <td>(DecisionTreeRegressor(max_features='auto', ra...</td>\n",
       "      <td>29336.15</td>\n",
       "      <td>0.744675</td>\n",
       "    </tr>\n",
       "  </tbody>\n",
       "</table>\n",
       "</div>"
      ],
      "text/plain": [
       "                                           Regressor       mae     score\n",
       "0                            DecisionTreeRegressor()  30951.70  0.769149\n",
       "1  (DecisionTreeRegressor(max_features='auto', ra...  29336.15  0.744675"
      ]
     },
     "execution_count": 63,
     "metadata": {},
     "output_type": "execute_result"
    }
   ],
   "source": [
    "meuMae = meuMae.sort_values(by='score', ascending=False)\n",
    "meuMae"
   ]
  },
  {
   "cell_type": "code",
   "execution_count": 64,
   "metadata": {},
   "outputs": [
    {
     "data": {
      "text/plain": [
       "DecisionTreeRegressor()"
      ]
     },
     "execution_count": 64,
     "metadata": {},
     "output_type": "execute_result"
    }
   ],
   "source": [
    "meuMae[\"Regressor\"].values[0]"
   ]
  },
  {
   "cell_type": "code",
   "execution_count": 65,
   "metadata": {},
   "outputs": [
    {
     "data": {
      "text/plain": [
       "DecisionTreeRegressor()"
      ]
     },
     "execution_count": 65,
     "metadata": {},
     "output_type": "execute_result"
    }
   ],
   "source": [
    "model = meuMae[\"Regressor\"].values[0]\n",
    "x = noOut['view_count']\n",
    "y = noOut[varTarget]\n",
    "model.fit(np.array(x).reshape(-1, 1), y)"
   ]
  },
  {
   "cell_type": "code",
   "execution_count": 66,
   "metadata": {},
   "outputs": [],
   "source": [
    "# what is the prediction to 1 million views?\n",
    "valFeatures = [1000000]\n",
    "predict = float(model.predict([valFeatures]))"
   ]
  },
  {
   "cell_type": "code",
   "execution_count": 67,
   "metadata": {},
   "outputs": [
    {
     "name": "stdout",
     "output_type": "stream",
     "text": [
      "Summary:\n",
      "Regs analyzed: 98746\n",
      "ML applied: DecisionTreeRegressor()\n",
      "Features analyzed:\n",
      " - comment_count: 1000000\n",
      "Predicted likes: 68779 \n"
     ]
    }
   ],
   "source": [
    "print(f'Summary:\\n'\n",
    "          f'Regs analyzed: {len(noOut)}\\n'\n",
    "          f'ML applied: {meuMae[\"Regressor\"].values[0]}\\n'\n",
    "          f'Features analyzed:')\n",
    "\n",
    "print(f' - {varFeatures[0]}: {valFeatures[0]}')\n",
    "\n",
    "print(f\"Predicted likes: {predict:.0f} \")"
   ]
  },
  {
   "cell_type": "code",
   "execution_count": 68,
   "metadata": {},
   "outputs": [],
   "source": [
    "z = model.predict(Xtest)"
   ]
  },
  {
   "cell_type": "code",
   "execution_count": 69,
   "metadata": {},
   "outputs": [
    {
     "data": {
      "text/plain": [
       "array([ 589.75757576,  589.75757576,  447.        , ..., 2099.        ,\n",
       "        589.75757576,  589.75757576])"
      ]
     },
     "execution_count": 69,
     "metadata": {},
     "output_type": "execute_result"
    }
   ],
   "source": [
    "z"
   ]
  },
  {
   "cell_type": "code",
   "execution_count": 70,
   "metadata": {},
   "outputs": [
    {
     "data": {
      "text/html": [
       "<div>\n",
       "<style scoped>\n",
       "    .dataframe tbody tr th:only-of-type {\n",
       "        vertical-align: middle;\n",
       "    }\n",
       "\n",
       "    .dataframe tbody tr th {\n",
       "        vertical-align: top;\n",
       "    }\n",
       "\n",
       "    .dataframe thead th {\n",
       "        text-align: right;\n",
       "    }\n",
       "</style>\n",
       "<table border=\"1\" class=\"dataframe\">\n",
       "  <thead>\n",
       "    <tr style=\"text-align: right;\">\n",
       "      <th></th>\n",
       "      <th>comment_count</th>\n",
       "    </tr>\n",
       "  </thead>\n",
       "  <tbody>\n",
       "    <tr>\n",
       "      <th>50289</th>\n",
       "      <td>287</td>\n",
       "    </tr>\n",
       "    <tr>\n",
       "      <th>53561</th>\n",
       "      <td>1265</td>\n",
       "    </tr>\n",
       "    <tr>\n",
       "      <th>69582</th>\n",
       "      <td>30553</td>\n",
       "    </tr>\n",
       "    <tr>\n",
       "      <th>27416</th>\n",
       "      <td>97</td>\n",
       "    </tr>\n",
       "    <tr>\n",
       "      <th>1041</th>\n",
       "      <td>4204</td>\n",
       "    </tr>\n",
       "    <tr>\n",
       "      <th>...</th>\n",
       "      <td>...</td>\n",
       "    </tr>\n",
       "    <tr>\n",
       "      <th>33404</th>\n",
       "      <td>151</td>\n",
       "    </tr>\n",
       "    <tr>\n",
       "      <th>6907</th>\n",
       "      <td>7239</td>\n",
       "    </tr>\n",
       "    <tr>\n",
       "      <th>51219</th>\n",
       "      <td>9463</td>\n",
       "    </tr>\n",
       "    <tr>\n",
       "      <th>48159</th>\n",
       "      <td>2071</td>\n",
       "    </tr>\n",
       "    <tr>\n",
       "      <th>6471</th>\n",
       "      <td>6610</td>\n",
       "    </tr>\n",
       "  </tbody>\n",
       "</table>\n",
       "<p>29624 rows × 1 columns</p>\n",
       "</div>"
      ],
      "text/plain": [
       "       comment_count\n",
       "50289            287\n",
       "53561           1265\n",
       "69582          30553\n",
       "27416             97\n",
       "1041            4204\n",
       "...              ...\n",
       "33404            151\n",
       "6907            7239\n",
       "51219           9463\n",
       "48159           2071\n",
       "6471            6610\n",
       "\n",
       "[29624 rows x 1 columns]"
      ]
     },
     "execution_count": 70,
     "metadata": {},
     "output_type": "execute_result"
    }
   ],
   "source": [
    "Xtest"
   ]
  },
  {
   "cell_type": "code",
   "execution_count": 71,
   "metadata": {},
   "outputs": [
    {
     "data": {
      "text/plain": [
       "((29624,), (29624, 1))"
      ]
     },
     "execution_count": 71,
     "metadata": {},
     "output_type": "execute_result"
    }
   ],
   "source": [
    "z.shape,Xtest.shape"
   ]
  },
  {
   "cell_type": "code",
   "execution_count": 72,
   "metadata": {},
   "outputs": [],
   "source": [
    "import matplotlib.pyplot as plt"
   ]
  },
  {
   "cell_type": "code",
   "execution_count": 73,
   "metadata": {},
   "outputs": [
    {
     "data": {
      "image/png": "[encoded data removed]",
      "text/plain": [
       "<Figure size 432x288 with 1 Axes>"
      ]
     },
     "metadata": {
      "needs_background": "light"
     },
     "output_type": "display_data"
    }
   ],
   "source": [
    "# plot.scatter(xTrain, yTrain, color = 'red')\n",
    "plt.scatter(Xtrain, ytrain, color = 'red')\n",
    "plt.plot(Xtest,z, color = 'blue')\n",
    "plt.title('Accuracy Plot')\n",
    "plt.xlabel('')\n",
    "plt.ylabel('')\n",
    "plt.show()"
   ]
  },
  {
   "cell_type": "code",
   "execution_count": 74,
   "metadata": {},
   "outputs": [
    {
     "data": {
      "text/html": [
       "<div>\n",
       "<style scoped>\n",
       "    .dataframe tbody tr th:only-of-type {\n",
       "        vertical-align: middle;\n",
       "    }\n",
       "\n",
       "    .dataframe tbody tr th {\n",
       "        vertical-align: top;\n",
       "    }\n",
       "\n",
       "    .dataframe thead th {\n",
       "        text-align: right;\n",
       "    }\n",
       "</style>\n",
       "<table border=\"1\" class=\"dataframe\">\n",
       "  <thead>\n",
       "    <tr style=\"text-align: right;\">\n",
       "      <th></th>\n",
       "      <th>view_count</th>\n",
       "      <th>likes</th>\n",
       "    </tr>\n",
       "  </thead>\n",
       "  <tbody>\n",
       "    <tr>\n",
       "      <th>count</th>\n",
       "      <td>4.530800e+04</td>\n",
       "      <td>45308.000000</td>\n",
       "    </tr>\n",
       "    <tr>\n",
       "      <th>mean</th>\n",
       "      <td>2.811013e+06</td>\n",
       "      <td>97229.316589</td>\n",
       "    </tr>\n",
       "    <tr>\n",
       "      <th>std</th>\n",
       "      <td>3.277793e+06</td>\n",
       "      <td>68560.236703</td>\n",
       "    </tr>\n",
       "    <tr>\n",
       "      <th>min</th>\n",
       "      <td>1.000017e+06</td>\n",
       "      <td>0.000000</td>\n",
       "    </tr>\n",
       "    <tr>\n",
       "      <th>25%</th>\n",
       "      <td>1.368788e+06</td>\n",
       "      <td>40995.000000</td>\n",
       "    </tr>\n",
       "    <tr>\n",
       "      <th>50%</th>\n",
       "      <td>1.932590e+06</td>\n",
       "      <td>82011.000000</td>\n",
       "    </tr>\n",
       "    <tr>\n",
       "      <th>75%</th>\n",
       "      <td>3.099520e+06</td>\n",
       "      <td>141363.000000</td>\n",
       "    </tr>\n",
       "    <tr>\n",
       "      <th>max</th>\n",
       "      <td>7.774562e+07</td>\n",
       "      <td>274104.000000</td>\n",
       "    </tr>\n",
       "  </tbody>\n",
       "</table>\n",
       "</div>"
      ],
      "text/plain": [
       "         view_count          likes\n",
       "count  4.530800e+04   45308.000000\n",
       "mean   2.811013e+06   97229.316589\n",
       "std    3.277793e+06   68560.236703\n",
       "min    1.000017e+06       0.000000\n",
       "25%    1.368788e+06   40995.000000\n",
       "50%    1.932590e+06   82011.000000\n",
       "75%    3.099520e+06  141363.000000\n",
       "max    7.774562e+07  274104.000000"
      ]
     },
     "execution_count": 74,
     "metadata": {},
     "output_type": "execute_result"
    }
   ],
   "source": [
    "noOut[noOut.view_count > 1000000][['view_count', 'likes']].describe()"
   ]
  },
  {
   "cell_type": "code",
   "execution_count": 75,
   "metadata": {},
   "outputs": [],
   "source": [
    "go = noOut[['countryId', 'country']].groupby('country').count()\n",
    "ao = noOut[['likes', 'dislikes', 'view_count', 'country']].groupby('country').sum()"
   ]
  },
  {
   "cell_type": "code",
   "execution_count": 76,
   "metadata": {},
   "outputs": [
    {
     "data": {
      "text/plain": [
       "Text(0.5, 1.0, 'Number videos WW')"
      ]
     },
     "execution_count": 76,
     "metadata": {},
     "output_type": "execute_result"
    },
    {
     "data": {
      "image/png": "[encoded data removed]",
      "text/plain": [
       "<Figure size 432x288 with 1 Axes>"
      ]
     },
     "metadata": {
      "needs_background": "light"
     },
     "output_type": "display_data"
    }
   ],
   "source": [
    "sns.barplot(x=go.index, y=go.countryId).set_title('Number videos WW')"
   ]
  },
  {
   "cell_type": "code",
   "execution_count": 77,
   "metadata": {},
   "outputs": [
    {
     "data": {
      "text/plain": [
       "Text(0.5, 1.0, 'Sum of Views by country')"
      ]
     },
     "execution_count": 77,
     "metadata": {},
     "output_type": "execute_result"
    },
    {
     "data": {
      "image/png": "[encoded data removed]",
      "text/plain": [
       "<Figure size 432x288 with 1 Axes>"
      ]
     },
     "metadata": {
      "needs_background": "light"
     },
     "output_type": "display_data"
    }
   ],
   "source": [
    "sns.barplot(x=ao.index, y=ao.view_count).set_title('Sum of Views by country')"
   ]
  },
  {
   "cell_type": "code",
   "execution_count": 78,
   "metadata": {},
   "outputs": [
    {
     "data": {
      "text/plain": [
       "country\n",
       "IN    74508571391\n",
       "US    79284879282\n",
       "Name: view_count, dtype: int64"
      ]
     },
     "execution_count": 78,
     "metadata": {},
     "output_type": "execute_result"
    }
   ],
   "source": [
    "ao.view_count"
   ]
  },
  {
   "cell_type": "code",
   "execution_count": 79,
   "metadata": {},
   "outputs": [
    {
     "data": {
      "text/plain": [
       "Index(['IN', 'US'], dtype='object', name='country')"
      ]
     },
     "execution_count": 79,
     "metadata": {},
     "output_type": "execute_result"
    }
   ],
   "source": [
    "ao.index"
   ]
  },
  {
   "cell_type": "code",
   "execution_count": 80,
   "metadata": {},
   "outputs": [
    {
     "data": {
      "text/plain": [
       "Text(0.5, 1.0, 'Sum of likes by country')"
      ]
     },
     "execution_count": 80,
     "metadata": {},
     "output_type": "execute_result"
    },
    {
     "data": {
      "image/png": "[encoded data removed]",
      "text/plain": [
       "<Figure size 432x288 with 1 Axes>"
      ]
     },
     "metadata": {
      "needs_background": "light"
     },
     "output_type": "display_data"
    }
   ],
   "source": [
    "sns.barplot(x=ao.index, y=ao.likes).set_title('Sum of likes by country')"
   ]
  },
  {
   "cell_type": "code",
   "execution_count": 81,
   "metadata": {},
   "outputs": [
    {
     "data": {
      "text/plain": [
       "Text(0.5, 1.0, 'Sum of dislikes by country')"
      ]
     },
     "execution_count": 81,
     "metadata": {},
     "output_type": "execute_result"
    },
    {
     "data": {
      "image/png": "[encoded data removed]",
      "text/plain": [
       "<Figure size 432x288 with 1 Axes>"
      ]
     },
     "metadata": {
      "needs_background": "light"
     },
     "output_type": "display_data"
    }
   ],
   "source": [
    "sns.barplot(x=ao.index, y=ao.dislikes).set_title('Sum of dislikes by country')"
   ]
  },
  {
   "cell_type": "code",
   "execution_count": 82,
   "metadata": {},
   "outputs": [
    {
     "data": {
      "text/plain": [
       "(Index(['IN', 'US'], dtype='object', name='country'),\n",
       " country\n",
       " IN    150473033\n",
       " US     90147118\n",
       " Name: dislikes, dtype: int64)"
      ]
     },
     "execution_count": 82,
     "metadata": {},
     "output_type": "execute_result"
    }
   ],
   "source": [
    "ao.index,ao.dislikes"
   ]
  },
  {
   "cell_type": "code",
   "execution_count": null,
   "metadata": {},
   "outputs": [],
   "source": []
  }
 ],
 "metadata": {
  "kernelspec": {
   "display_name": "Python 3",
   "language": "python",
   "name": "python3"
  },
  "language_info": {
   "codemirror_mode": {
    "name": "ipython",
    "version": 3
   },
   "file_extension": ".py",
   "mimetype": "text/x-python",
   "name": "python",
   "nbconvert_exporter": "python",
   "pygments_lexer": "ipython3",
   "version": "3.9.5"
  }
 },
 "nbformat": 4,
 "nbformat_minor": 4
}
