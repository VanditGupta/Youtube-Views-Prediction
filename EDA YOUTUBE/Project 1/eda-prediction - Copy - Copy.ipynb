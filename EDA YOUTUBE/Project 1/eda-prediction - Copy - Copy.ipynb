{
 "cells": [
  {
   "cell_type": "code",
   "execution_count": null,
   "metadata": {
    "_cell_guid": "b1076dfc-b9ad-4769-8c92-a6c4dae69d19",
    "_uuid": "8f2839f25d086af736a60e9eeb907d3b93b6e0e5"
   },
   "outputs": [],
   "source": [
    "# https://www.kaggle.com/rsrishav/youtube-trending-video-dataset\n",
    "\n",
    "import numpy as np\n",
    "import pandas as pd\n",
    "\n",
    "import os"
   ]
  },
  {
   "cell_type": "code",
   "execution_count": null,
   "metadata": {},
   "outputs": [],
   "source": []
  },
  {
   "cell_type": "code",
   "execution_count": null,
   "metadata": {},
   "outputs": [],
   "source": [
    "data = []\n",
    "for dirname, _, filenames in os.walk('./archive1/'):\n",
    "    for filename in filenames:\n",
    "        if filename.endswith('csv'):\n",
    "            dft = pd.DataFrame(pd.read_csv(os.path.join(dirname, filename), header=0))\n",
    "            dft['country'] = filename[:2]\n",
    "            data.append(dft)\n",
    "\n",
    "df = pd.concat(data, axis=0, ignore_index=True)"
   ]
  },
  {
   "cell_type": "code",
   "execution_count": null,
   "metadata": {},
   "outputs": [],
   "source": []
  },
  {
   "cell_type": "code",
   "execution_count": null,
   "metadata": {},
   "outputs": [],
   "source": [
    "country = df.country.unique().tolist()\n",
    "df['countryId'] = df.country.apply(lambda x: country.index(x))"
   ]
  },
  {
   "cell_type": "code",
   "execution_count": null,
   "metadata": {},
   "outputs": [],
   "source": [
    "country"
   ]
  },
  {
   "cell_type": "code",
   "execution_count": null,
   "metadata": {},
   "outputs": [],
   "source": [
    "df.head(2)"
   ]
  },
  {
   "cell_type": "code",
   "execution_count": null,
   "metadata": {},
   "outputs": [],
   "source": [
    "df.describe()"
   ]
  },
  {
   "cell_type": "code",
   "execution_count": null,
   "metadata": {},
   "outputs": [],
   "source": [
    "columns = list(df.head(0))\n",
    "columns"
   ]
  },
  {
   "cell_type": "code",
   "execution_count": null,
   "metadata": {},
   "outputs": [],
   "source": [
    "# Finding duplicate values if any\n",
    "def eda(dfA, all=False, desc='EDA '):\n",
    "    print(desc)\n",
    "    print(f'\\nShape:\\n{dfA.shape}')\n",
    "    print(f'\\nIs Null: {dfA.isnull().sum().sum()}')\n",
    "    print(f'{dfA.isnull().mean().sort_values(ascending=False)}')\n",
    "    dup = dfA.duplicated()\n",
    "    print(f'\\nDuplicated: \\n{dfA[dup].shape}\\n')\n",
    "    try:\n",
    "        print(dfA[dfA.duplicated(keep=False)].sample(4))\n",
    "    except:\n",
    "        pass\n",
    "    if all:  \n",
    "        \n",
    "        print(f'\\nDTypes - Numerics')\n",
    "        print(dfA.describe(include=[np.number]))\n",
    "        print(f'\\nDTypes - Categoricals')\n",
    "        print(dfA.describe(include=['object']))\n",
    "        \n",
    "        #print(df.loc[:, df.dtypes=='object'].columns)\n",
    "        print(f'\\nHead:\\n{dfA.head()}')\n",
    "        print(f'\\nSamples:\\n{dfA.sample(2)}')\n",
    "        print(f'\\nTail:\\n{dfA.tail()}')"
   ]
  },
  {
   "cell_type": "code",
   "execution_count": null,
   "metadata": {},
   "outputs": [],
   "source": [
    "eda(df)"
   ]
  },
  {
   "cell_type": "code",
   "execution_count": null,
   "metadata": {},
   "outputs": [],
   "source": [
    "len(df[df.description.isna()])"
   ]
  },
  {
   "cell_type": "code",
   "execution_count": null,
   "metadata": {},
   "outputs": [],
   "source": [
    "df.description = df.description.fillna('no-discription')"
   ]
  },
  {
   "cell_type": "code",
   "execution_count": null,
   "metadata": {},
   "outputs": [],
   "source": [
    "eda(df)"
   ]
  },
  {
   "cell_type": "code",
   "execution_count": null,
   "metadata": {},
   "outputs": [],
   "source": [
    "import seaborn as sns\n",
    "import matplotlib.pyplot as plt"
   ]
  },
  {
   "cell_type": "code",
   "execution_count": null,
   "metadata": {},
   "outputs": [],
   "source": [
    "g = df[['countryId', 'country']].groupby('country').count()\n",
    "a = df[['likes', 'dislikes', 'view_count', 'country']].groupby('country').sum()"
   ]
  },
  {
   "cell_type": "code",
   "execution_count": null,
   "metadata": {},
   "outputs": [],
   "source": [
    "g"
   ]
  },
  {
   "cell_type": "code",
   "execution_count": null,
   "metadata": {},
   "outputs": [],
   "source": []
  },
  {
   "cell_type": "code",
   "execution_count": null,
   "metadata": {},
   "outputs": [],
   "source": []
  },
  {
   "cell_type": "code",
   "execution_count": null,
   "metadata": {},
   "outputs": [],
   "source": []
  },
  {
   "cell_type": "code",
   "execution_count": null,
   "metadata": {},
   "outputs": [],
   "source": []
  },
  {
   "cell_type": "code",
   "execution_count": null,
   "metadata": {},
   "outputs": [],
   "source": []
  },
  {
   "cell_type": "markdown",
   "metadata": {},
   "source": [
    "# Comparing India and US"
   ]
  },
  {
   "cell_type": "code",
   "execution_count": null,
   "metadata": {},
   "outputs": [],
   "source": [
    "country = df.query(\"country == 'IN' or country == 'US'\")"
   ]
  },
  {
   "cell_type": "code",
   "execution_count": null,
   "metadata": {},
   "outputs": [],
   "source": []
  },
  {
   "cell_type": "code",
   "execution_count": null,
   "metadata": {
    "_cell_guid": "79c7e3d0-c299-4dcb-8224-4455121ee9b0",
    "_uuid": "d629ff2d2480ee46fbb7e2d37f6b5fab8052498a"
   },
   "outputs": [],
   "source": [
    "# Separates dataset into category id and view count\n",
    "def sepColumns(dataset):\n",
    "    num = []\n",
    "    cat = []\n",
    "    for i in dataset.columns:\n",
    "        if dataset[i].dtype == 'object':\n",
    "            cat.append(i)\n",
    "        else:\n",
    "            num.append(i)\n",
    "    return num, cat"
   ]
  },
  {
   "cell_type": "code",
   "execution_count": null,
   "metadata": {},
   "outputs": [],
   "source": [
    "num, categ = sepColumns(country)"
   ]
  },
  {
   "cell_type": "code",
   "execution_count": null,
   "metadata": {},
   "outputs": [],
   "source": [
    "country[num].describe()"
   ]
  },
  {
   "cell_type": "code",
   "execution_count": null,
   "metadata": {},
   "outputs": [],
   "source": [
    "country[['title', 'dislikes']].groupby('title').sum().sort_values(by='dislikes', ascending=False).head()"
   ]
  },
  {
   "cell_type": "code",
   "execution_count": null,
   "metadata": {},
   "outputs": [],
   "source": [
    "country[['title', 'likes']].groupby('title').sum().sort_values(by='likes', ascending=False).head()"
   ]
  },
  {
   "cell_type": "code",
   "execution_count": null,
   "metadata": {},
   "outputs": [],
   "source": [
    "country[['title', 'view_count']].groupby('title').sum().sort_values(by='view_count', ascending=False).head()"
   ]
  },
  {
   "cell_type": "code",
   "execution_count": null,
   "metadata": {},
   "outputs": [],
   "source": [
    "dashbr=country[['title', 'view_count', 'likes', 'dislikes']].groupby('title').sum().sort_values(by='view_count', ascending=False).head()\n",
    "dashbr"
   ]
  },
  {
   "cell_type": "code",
   "execution_count": null,
   "metadata": {},
   "outputs": [],
   "source": [
    "country.sample()"
   ]
  },
  {
   "cell_type": "code",
   "execution_count": null,
   "metadata": {},
   "outputs": [],
   "source": [
    "def correlation(df, varT, xpoint=-0.5, showGraph=True):\n",
    "    corr = df.corr()\n",
    "    print(f'\\nFeatures correlation:\\n'\n",
    "          f'Target: {varT}\\n'\n",
    "          f'Reference.: {xpoint}\\n'\n",
    "          f'\\nMain features:')\n",
    "    corrs = corr[varT]\n",
    "    features = []\n",
    "    for i in range(0, len(corrs)):\n",
    "        if corrs[i] > xpoint and corrs.index[i] != varT:\n",
    "            print(corrs.index[i], f'{corrs[i]:.2f}')\n",
    "            features.append(corrs.index[i])\n",
    "    if showGraph:\n",
    "        sns.heatmap(corr,\n",
    "                    annot=True, fmt='.2f', vmin=-1, vmax=1, linewidth=0.01,\n",
    "                    linecolor='black', cmap='RdBu_r'\n",
    "                    )\n",
    "        plt.title('Correlations between features w/ target')\n",
    "        plt.show()\n",
    "    return features"
   ]
  },
  {
   "cell_type": "code",
   "execution_count": null,
   "metadata": {},
   "outputs": [],
   "source": [
    "varTarget = 'likes'"
   ]
  },
  {
   "cell_type": "code",
   "execution_count": null,
   "metadata": {},
   "outputs": [],
   "source": [
    "varFeatures = correlation(country, varTarget, 0.5)"
   ]
  },
  {
   "cell_type": "code",
   "execution_count": null,
   "metadata": {},
   "outputs": [],
   "source": [
    "def removeOutliers(out, varTarget):\n",
    "    print('\\nOutliers\\nRemoving ...', end='')\n",
    "    cidgrp = out[varTarget]\n",
    "    print('..', end='')\n",
    "    # quantiles\n",
    "    qtl1 = cidgrp.quantile(.25)  \n",
    "    qtl3 = cidgrp.quantile(.75)\n",
    "    print('..', end='')\n",
    "    # calculating iqr\n",
    "    iqr = qtl3 - qtl1\n",
    "    print('..', end='')\n",
    "\n",
    "    # creating limits\n",
    "    baixo = qtl1 - 1.5 * iqr\n",
    "    alto = qtl3 + 1.5 * iqr\n",
    "    print('..', end='')\n",
    "\n",
    "    # removing outliers\n",
    "    novodf = pd.DataFrame()\n",
    "    print('..', end='')\n",
    "\n",
    "    limites = out[varTarget].between(left=baixo, right=alto, inclusive=True)\n",
    "    novodf = pd.concat([novodf, out[limites]])\n",
    "\n",
    "    print('.....Done')\n",
    "\n",
    "    return novodf"
   ]
  },
  {
   "cell_type": "code",
   "execution_count": null,
   "metadata": {},
   "outputs": [],
   "source": [
    "noOut = removeOutliers(country, varTarget)"
   ]
  },
  {
   "cell_type": "code",
   "execution_count": null,
   "metadata": {},
   "outputs": [],
   "source": [
    "# Two subplots\n",
    "fig, (ax1, ax2) = plt.subplots(ncols=2, sharey=True, figsize=(15,5))\n",
    "sns.boxplot(x=country[varTarget], ax=ax1).set_title('Original')\n",
    "sns.boxplot(x=noOut[varTarget], ax=ax2).set_title('Original No outliers')"
   ]
  },
  {
   "cell_type": "code",
   "execution_count": null,
   "metadata": {},
   "outputs": [],
   "source": [
    "# Plotting dataset information\n",
    "print(country[varTarget].describe())\n",
    "sns.barplot(x=country[varTarget].describe().index[1:], y=country[varTarget].describe().values[1:])"
   ]
  },
  {
   "cell_type": "code",
   "execution_count": null,
   "metadata": {},
   "outputs": [],
   "source": [
    "print(noOut[varTarget].describe())\n",
    "sns.barplot(x=noOut[varTarget].describe().index[1:], y=noOut[varTarget].describe().values[1:])"
   ]
  },
  {
   "cell_type": "markdown",
   "metadata": {},
   "source": [
    "**Predictions**"
   ]
  },
  {
   "cell_type": "code",
   "execution_count": null,
   "metadata": {},
   "outputs": [],
   "source": [
    "varFeatures = correlation(noOut, varTarget, 0.5)"
   ]
  },
  {
   "cell_type": "code",
   "execution_count": null,
   "metadata": {},
   "outputs": [],
   "source": [
    "# ML Algorithms\n",
    "from sklearn.ensemble import RandomForestRegressor, GradientBoostingRegressor\n",
    "from sklearn.tree import DecisionTreeRegressor\n",
    "from sklearn.linear_model import LinearRegression, LogisticRegression, PoissonRegressor\n",
    "from sklearn.svm import SVR\n",
    "from sklearn.naive_bayes import GaussianNB\n",
    "from sklearn.dummy import DummyRegressor\n",
    "\n",
    "# ML training and testing selection\n",
    "from sklearn.model_selection import train_test_split\n",
    "# Calculate the smallest absolute mean error between the 2 data presented\n",
    "from sklearn.metrics import mean_absolute_error"
   ]
  },
  {
   "cell_type": "code",
   "execution_count": null,
   "metadata": {},
   "outputs": [],
   "source": [
    "regressors = [\n",
    "#         DecisionTreeRegressor(),\n",
    "#         RandomForestRegressor(),\n",
    "        SVR(),\n",
    "#         LinearRegression(),\n",
    "#         GradientBoostingRegressor(),\n",
    "#         PoissonRegressor(),\n",
    "#         DummyRegressor(),\n",
    "#         LogisticRegression(),\n",
    "#         GaussianNB()\n",
    "    ]"
   ]
  },
  {
   "cell_type": "code",
   "execution_count": null,
   "metadata": {},
   "outputs": [],
   "source": []
  },
  {
   "cell_type": "code",
   "execution_count": null,
   "metadata": {},
   "outputs": [],
   "source": [
    "X = noOut[varFeatures]\n",
    "y = noOut[varTarget]"
   ]
  },
  {
   "cell_type": "code",
   "execution_count": null,
   "metadata": {},
   "outputs": [],
   "source": [
    "type(X)"
   ]
  },
  {
   "cell_type": "code",
   "execution_count": null,
   "metadata": {},
   "outputs": [],
   "source": [
    "type(y)"
   ]
  },
  {
   "cell_type": "code",
   "execution_count": null,
   "metadata": {},
   "outputs": [],
   "source": [
    "y = pd.DataFrame(y)"
   ]
  },
  {
   "cell_type": "code",
   "execution_count": null,
   "metadata": {},
   "outputs": [],
   "source": [
    "y1 = y"
   ]
  },
  {
   "cell_type": "code",
   "execution_count": null,
   "metadata": {},
   "outputs": [],
   "source": [
    "type(y)"
   ]
  },
  {
   "cell_type": "code",
   "execution_count": null,
   "metadata": {},
   "outputs": [],
   "source": [
    "y = y['likes']"
   ]
  },
  {
   "cell_type": "code",
   "execution_count": null,
   "metadata": {},
   "outputs": [],
   "source": [
    "y"
   ]
  },
  {
   "cell_type": "code",
   "execution_count": null,
   "metadata": {},
   "outputs": [],
   "source": [
    "Xtrain, Xtest, ytrain, ytest = train_test_split(X, y, test_size=0.3, random_state=42)"
   ]
  },
  {
   "cell_type": "code",
   "execution_count": null,
   "metadata": {},
   "outputs": [],
   "source": [
    "Xtrain"
   ]
  },
  {
   "cell_type": "code",
   "execution_count": null,
   "metadata": {},
   "outputs": [],
   "source": [
    "ytrain"
   ]
  },
  {
   "cell_type": "code",
   "execution_count": null,
   "metadata": {},
   "outputs": [],
   "source": [
    "ytrain.shape"
   ]
  },
  {
   "cell_type": "code",
   "execution_count": null,
   "metadata": {},
   "outputs": [],
   "source": [
    "y1"
   ]
  },
  {
   "cell_type": "code",
   "execution_count": null,
   "metadata": {},
   "outputs": [],
   "source": [
    "type(y1)"
   ]
  },
  {
   "cell_type": "code",
   "execution_count": null,
   "metadata": {},
   "outputs": [],
   "source": [
    "y1.shape"
   ]
  },
  {
   "cell_type": "code",
   "execution_count": null,
   "metadata": {},
   "outputs": [],
   "source": [
    "y1.reset_index(drop=True)"
   ]
  },
  {
   "cell_type": "code",
   "execution_count": null,
   "metadata": {},
   "outputs": [],
   "source": [
    "y1"
   ]
  },
  {
   "cell_type": "code",
   "execution_count": null,
   "metadata": {},
   "outputs": [],
   "source": [
    "ytrain"
   ]
  },
  {
   "cell_type": "code",
   "execution_count": null,
   "metadata": {},
   "outputs": [],
   "source": [
    "Xtest"
   ]
  },
  {
   "cell_type": "code",
   "execution_count": null,
   "metadata": {},
   "outputs": [],
   "source": [
    "ytest"
   ]
  },
  {
   "cell_type": "code",
   "execution_count": null,
   "metadata": {},
   "outputs": [],
   "source": [
    "reg = []\n",
    "mae = []\n",
    "sco = []\n",
    "for regressor in regressors:\n",
    "    model = regressor\n",
    "    model.fit(Xtrain, np.array(ytrain))\n",
    "    sco.append(model.score(Xtrain, ytrain))\n",
    "    previous = model.predict(Xtest)\n",
    "    mae.append(round(mean_absolute_error(ytest, previous), 2))\n",
    "    reg.append(regressor)"
   ]
  },
  {
   "cell_type": "code",
   "execution_count": null,
   "metadata": {},
   "outputs": [],
   "source": [
    "# Generating mean absolute error and score for the model\n",
    "meuMae = pd.DataFrame(columns=['Regressor', 'mae', 'score'])\n",
    "meuMae['Regressor'] = reg\n",
    "meuMae['mae'] = mae\n",
    "meuMae['score'] = sco"
   ]
  },
  {
   "cell_type": "code",
   "execution_count": null,
   "metadata": {},
   "outputs": [],
   "source": [
    "meuMae = meuMae.sort_values(by='score', ascending=False)\n",
    "meuMae"
   ]
  },
  {
   "cell_type": "code",
   "execution_count": null,
   "metadata": {},
   "outputs": [],
   "source": [
    "meuMae[\"Regressor\"].values[0]"
   ]
  },
  {
   "cell_type": "code",
   "execution_count": null,
   "metadata": {},
   "outputs": [],
   "source": [
    "model = meuMae[\"Regressor\"].values[0]\n",
    "x = noOut['view_count']\n",
    "y = noOut[varTarget]\n",
    "model.fit(np.array(x).reshape(-1, 1), y)"
   ]
  },
  {
   "cell_type": "code",
   "execution_count": null,
   "metadata": {},
   "outputs": [],
   "source": [
    "# what is the prediction to 1 million views?\n",
    "valFeatures = [1000000]\n",
    "predict = float(model.predict([valFeatures]))"
   ]
  },
  {
   "cell_type": "code",
   "execution_count": null,
   "metadata": {},
   "outputs": [],
   "source": [
    "print(f'Summary:\\n'\n",
    "          f'Regs analyzed: {len(noOut)}\\n'\n",
    "          f'ML applied: {meuMae[\"Regressor\"].values[0]}\\n'\n",
    "          f'Features analyzed:')\n",
    "\n",
    "print(f' - {varFeatures[0]}: {valFeatures[0]}')\n",
    "\n",
    "print(f\"Predicted likes: {predict:.0f} \")"
   ]
  },
  {
   "cell_type": "code",
   "execution_count": null,
   "metadata": {},
   "outputs": [],
   "source": []
  },
  {
   "cell_type": "code",
   "execution_count": null,
   "metadata": {},
   "outputs": [],
   "source": [
    "noOut[noOut.view_count > 1000000][['view_count', 'likes']].describe()"
   ]
  },
  {
   "cell_type": "code",
   "execution_count": null,
   "metadata": {},
   "outputs": [],
   "source": [
    "go = noOut[['countryId', 'country']].groupby('country').count()\n",
    "ao = noOut[['likes', 'dislikes', 'view_count', 'country']].groupby('country').sum()"
   ]
  },
  {
   "cell_type": "code",
   "execution_count": null,
   "metadata": {},
   "outputs": [],
   "source": [
    "sns.barplot(x=go.index, y=go.countryId).set_title('Number videos WW')"
   ]
  },
  {
   "cell_type": "code",
   "execution_count": null,
   "metadata": {},
   "outputs": [],
   "source": [
    "sns.barplot(x=ao.index, y=ao.view_count).set_title('Sum of Views by country')"
   ]
  },
  {
   "cell_type": "code",
   "execution_count": null,
   "metadata": {},
   "outputs": [],
   "source": [
    "ao.view_count"
   ]
  },
  {
   "cell_type": "code",
   "execution_count": null,
   "metadata": {},
   "outputs": [],
   "source": [
    "ao.index"
   ]
  },
  {
   "cell_type": "code",
   "execution_count": null,
   "metadata": {},
   "outputs": [],
   "source": [
    "sns.barplot(x=ao.index, y=ao.likes).set_title('Sum of likes by country')"
   ]
  },
  {
   "cell_type": "code",
   "execution_count": null,
   "metadata": {},
   "outputs": [],
   "source": [
    "sns.barplot(x=ao.index, y=ao.dislikes).set_title('Sum of dislikes by country')"
   ]
  },
  {
   "cell_type": "code",
   "execution_count": null,
   "metadata": {},
   "outputs": [],
   "source": [
    "ao.index,ao.dislikes"
   ]
  },
  {
   "cell_type": "code",
   "execution_count": null,
   "metadata": {},
   "outputs": [],
   "source": []
  },
  {
   "cell_type": "code",
   "execution_count": null,
   "metadata": {},
   "outputs": [],
   "source": []
  },
  {
   "cell_type": "code",
   "execution_count": null,
   "metadata": {},
   "outputs": [],
   "source": []
  },
  {
   "cell_type": "code",
   "execution_count": null,
   "metadata": {},
   "outputs": [],
   "source": []
  },
  {
   "cell_type": "code",
   "execution_count": null,
   "metadata": {},
   "outputs": [],
   "source": []
  },
  {
   "cell_type": "code",
   "execution_count": null,
   "metadata": {},
   "outputs": [],
   "source": []
  },
  {
   "cell_type": "code",
   "execution_count": null,
   "metadata": {},
   "outputs": [],
   "source": []
  },
  {
   "cell_type": "code",
   "execution_count": null,
   "metadata": {},
   "outputs": [],
   "source": []
  },
  {
   "cell_type": "code",
   "execution_count": null,
   "metadata": {},
   "outputs": [],
   "source": []
  },
  {
   "cell_type": "code",
   "execution_count": null,
   "metadata": {},
   "outputs": [],
   "source": []
  }
 ],
 "metadata": {
  "kernelspec": {
   "display_name": "Python 3",
   "language": "python",
   "name": "python3"
  },
  "language_info": {
   "codemirror_mode": {
    "name": "ipython",
    "version": 3
   },
   "file_extension": ".py",
   "mimetype": "text/x-python",
   "name": "python",
   "nbconvert_exporter": "python",
   "pygments_lexer": "ipython3",
   "version": "3.8.5"
  }
 },
 "nbformat": 4,
 "nbformat_minor": 4
}
